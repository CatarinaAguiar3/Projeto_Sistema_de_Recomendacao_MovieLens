{
 "cells": [
  {
   "cell_type": "markdown",
   "metadata": {},
   "source": [
    "<picture>\n",
    "  <!--Imagem para o tema dark-->\n",
    "  <source media=\"(prefers-color-scheme: dark)\" srcset=\"https://github.com/CatarinaAguiar3/Projeto_Sistema_de_Recomendacao_MovieLens/blob/main/Imagens/Banners/Dark_Titulo1_Limpeza.png?raw=true\">\n",
    "  \n",
    "  <!--Imagem para o tema light-->\n",
    "  <source media=\"(prefers-color-scheme: light)\" srcset=\"https://github.com/CatarinaAguiar3/Projeto_Sistema_de_Recomendacao_MovieLens/blob/main/Imagens/Banners/Titulo1_Limpeza_v2.png?raw=true\">\n",
    "\n",
    "  <!--Imagem padrão (quando os temas dark e light não forem identificados -->\n",
    "  <img src=\"https://github.com/CatarinaAguiar3/Projeto_Sistema_de_Recomendacao_MovieLens/blob/main/Imagens/Banners/Titulo1_Limpeza_v2.png?raw=true\">\n",
    "</picture>"
   ]
  },
  {
   "cell_type": "markdown",
   "metadata": {},
   "source": [
    "# **Entendimento do negócio**"
   ]
  },
  {
   "cell_type": "markdown",
   "metadata": {},
   "source": [
    "## Introdução\n",
    "[MovieLens](https://movielens.org/) é um site de recomendação de filmes, administrado por um laboratório de pesquisa da Universidade de Minnesota.\n",
    "<br>\n",
    "Ele funciona da seguinte forma: o usuário  cria um conta e avalia os filmes , assim o MovieLens cria uma recomendação personalizada , indicando outros filmes para o usuário assistir.\n",
    "Este projeto usará dados deste site que podem ser acessados neste link: [MovieLens Latest Datasets (arquivo completo)](https://grouplens.org/datasets/movielens/latest/)\n"
   ]
  },
  {
   "cell_type": "markdown",
   "metadata": {},
   "source": [
    "## Objetivo\n",
    "O objetivo é criar um sistema de recomendação de gênero de filme usando a linguagem Python."
   ]
  },
  {
   "cell_type": "markdown",
   "metadata": {},
   "source": [
    "## Como funciona o site MovieLens?\n",
    "Ao criar sua conta de usuário, é necessário escolher as categorias de filmes de sua preferância.\n",
    "<br><br>\n",
    "[<img src=\"https://github.com/CatarinaAguiar3/Projeto_Sistema_de_Recomendacao_MovieLens/blob/main/Imagens/Limpeza_e_Transformacao/Tela1.1_MovieLens.png?raw=true\" width=\"95%\">](https://github.com/CatarinaAguiar3/Projeto_Sistema_de_Recomendacao_MovieLens/blob/main/Imagens/Limpeza_e_Transformacao/Tela1.1_MovieLens.png?raw=true)\n",
    "\n",
    "<br><br>\n",
    "Em seguida, o site mostra um tutorial de como funciona:\n",
    "<br><br>\n",
    "[<img src=\"https://github.com/CatarinaAguiar3/Projeto_Sistema_de_Recomendacao_MovieLens/blob/main/Imagens/Limpeza_e_Transformacao/Tela2.1_Tutorial_MovieLens.png?raw=true\" width=\"50%\">](https://github.com/CatarinaAguiar3/Projeto_Sistema_de_Recomendacao_MovieLens/blob/main/Imagens/Limpeza_e_Transformacao/Tela2.1_Tutorial_MovieLens.png?raw=true)\n"
   ]
  },
  {
   "cell_type": "markdown",
   "metadata": {},
   "source": [
    "# **Entendimento dos dados**\n",
    "\n",
    "## Importar Bibliotecas"
   ]
  },
  {
   "cell_type": "code",
   "execution_count": 1,
   "metadata": {},
   "outputs": [],
   "source": [
    "import pandas as pd\n",
    "import os\n",
    "import numpy as np"
   ]
  },
  {
   "cell_type": "code",
   "execution_count": 3,
   "metadata": {},
   "outputs": [],
   "source": [
    "import matplotlib.pyplot as plt\n",
    "import seaborn as sns"
   ]
  },
  {
   "cell_type": "markdown",
   "metadata": {},
   "source": [
    "## Definir Diretório"
   ]
  },
  {
   "cell_type": "code",
   "execution_count": 5,
   "metadata": {},
   "outputs": [],
   "source": [
    "os.chdir(\"C:/0.Projetos/5.Sistema_de_Recomendacao_MovieLens_2\")"
   ]
  },
  {
   "cell_type": "markdown",
   "metadata": {},
   "source": [
    "## Carregar Arquivos"
   ]
  },
  {
   "cell_type": "code",
   "execution_count": 6,
   "metadata": {},
   "outputs": [],
   "source": [
    "ratings_amostragem = pd.read_pickle(\"Datasets/1.Datasets_Amostragem/amostragem_ratings.pickle\", compression=\"gzip\")"
   ]
  },
  {
   "cell_type": "code",
   "execution_count": 7,
   "metadata": {},
   "outputs": [],
   "source": [
    "movies_amostragem = pd.read_pickle(\"Datasets/1.Datasets_Amostragem/movies_amostragem.pickle\", compression=\"gzip\")"
   ]
  },
  {
   "cell_type": "code",
   "execution_count": 8,
   "metadata": {},
   "outputs": [],
   "source": [
    "tags_amostragem = pd.read_pickle(\"Datasets/1.Datasets_Amostragem/tags_amostragem.pickle\", compression=\"gzip\")"
   ]
  },
  {
   "cell_type": "code",
   "execution_count": 9,
   "metadata": {},
   "outputs": [],
   "source": [
    "genome_tags_amostragem = pd.read_pickle(\"Datasets/1.Datasets_Amostragem/genome_tags_amostragem.pickle\", compression=\"gzip\")"
   ]
  },
  {
   "cell_type": "code",
   "execution_count": 10,
   "metadata": {},
   "outputs": [],
   "source": [
    "genome_scores_amostragem = pd.read_pickle(\"Datasets/1.Datasets_Amostragem/genome_scores_amostragem.pickle\", compression=\"gzip\")"
   ]
  },
  {
   "cell_type": "markdown",
   "metadata": {},
   "source": [
    "# **Funções**"
   ]
  },
  {
   "cell_type": "markdown",
   "metadata": {},
   "source": [
    "## Função1: descrever os dados"
   ]
  },
  {
   "cell_type": "code",
   "execution_count": 11,
   "metadata": {},
   "outputs": [],
   "source": [
    "def descrever_dados(tabela: pd.DataFrame):\n",
    "\n",
    "    tipo_dados = tabela.dtypes\n",
    "\n",
    "    # Calcular a quantidade de valores ausentes em cada coluna\n",
    "    quantidade_ausentes = tabela.isna().sum()\n",
    "        \n",
    "    # Calcular a porcentagem de valores ausentes em cada coluna\n",
    "    porcentagem_ausentes = tabela.isna().mean()\n",
    "\n",
    "    valor_unico = tabela.nunique()\n",
    "\n",
    "    # Concatenar os DataFrames individualmente\n",
    "    tabela_resumo = pd.concat([tipo_dados, valor_unico, quantidade_ausentes, porcentagem_ausentes], axis=1)\n",
    "    tabela_resumo.columns = ['Tipo de dados', 'Valores únicos', 'Quantidade de NA´s', 'Porcentagem de NA´s']\n",
    "\n",
    "    # Exibir os resultados\n",
    "    print(f\"Nº de Linhas: {len(tabela)}\")\n",
    "    print(f\"Nº de Colunas: {tabela.shape[1]}\\n\\n\")\n",
    "   \n",
    "    return tabela_resumo\n",
    "\n",
    "    # OBS: tabela_resumo.columns -> retorna uma lista com os nomes das colunas do DataFrame tabela_resumo\n",
    "    #                               Em seguida, renomeamos as colunas da tabela_resumo\n",
    "    "
   ]
  },
  {
   "cell_type": "markdown",
   "metadata": {},
   "source": [
    "## Função 2: quantidade e porcentagem de valores ausentes"
   ]
  },
  {
   "cell_type": "code",
   "execution_count": 12,
   "metadata": {},
   "outputs": [],
   "source": [
    "def valores_ausentes(tabela: pd.DataFrame):\n",
    "    # Calcular a quantidade de valores ausentes em cada coluna\n",
    "    quantidade_ausentes = tabela.isna().sum()\n",
    "        \n",
    "    # Calcular a porcentagem de valores ausentes em cada coluna\n",
    "    porcentagem_ausentes = (quantidade_ausentes / len(tabela)) * 100\n",
    "    #ou\n",
    "    #porcentagem_ausentes = ratings.isna().mean()\n",
    "\n",
    "    # Exibir os resultados\n",
    "    print(\"Quantidade e Porcentagem de NA's:\")\n",
    "    print(pd.concat([quantidade_ausentes, porcentagem_ausentes], axis=1, keys=['Quantidade', 'Porcentagem']))"
   ]
  },
  {
   "cell_type": "markdown",
   "metadata": {},
   "source": [
    "## Função 3: Calcular o Resumo Estatístico"
   ]
  },
  {
   "cell_type": "code",
   "execution_count": 13,
   "metadata": {},
   "outputs": [],
   "source": [
    "def resumo_estatistico(tabela:pd.DataFrame, coluna:str) -> pd.DataFrame:\n",
    "\n",
    "    # Calcula estatísticas descritivas usando agg\n",
    "    resumo = tabela[coluna].agg(['count', 'mean','median', 'std', 'min', 'max' ]).round(2)\n",
    "\n",
    "    # Renomeiar a coluna 'median' para 'median (50%)'\n",
    "    resumo = resumo.rename(index={'median': 'median (50%)'})\n",
    "\n",
    "    # Calcula percentis usando quantile\n",
    "    percentis = tabela[coluna].quantile([0.25, 0.5, 0.75]).round(2)\n",
    "\n",
    "    # Combina os resultados em um DataFrame único\n",
    "    resumo = pd.concat([resumo, percentis.rename({0.25: '25%', 0.5: '50%', 0.75: '75%'})])\n",
    "\n",
    "    display(resumo)"
   ]
  },
  {
   "cell_type": "markdown",
   "metadata": {},
   "source": [
    "## Função 4: Retorna a frequência e proporção dos valores únicos"
   ]
  },
  {
   "cell_type": "code",
   "execution_count": 14,
   "metadata": {},
   "outputs": [],
   "source": [
    "def valores_unicos(tabela:pd.DataFrame, coluna:str) -> pd.DataFrame:\n",
    "    \n",
    "    # Calcula a contagem dos valores únicos usando value_counts\n",
    "    contagem = tabela[coluna].value_counts().reset_index()\n",
    "\n",
    "    # Renomeia as colunas para tornar o resultado mais claro\n",
    "    contagem.columns = ['Valor_Único', 'Frequência']\n",
    "\n",
    "    # Adiciona uma coluna de proporção em porcentagem\n",
    "    contagem['Proporção (%)'] = (contagem['Frequência'] / contagem['Frequência'].sum()) * 100\n",
    "\n",
    "    # Arredonda a coluna de proporção para 4 casas decimais\n",
    "    contagem['Proporção (%)'] = contagem['Proporção (%)'].round(4)\n",
    "\n",
    "    # Formata a coluna de proporção como porcentagem\n",
    "    contagem['Proporção (%)'] = contagem['Proporção (%)'].map('{:.4f}%'.format)\n",
    "\n",
    "    return contagem"
   ]
  },
  {
   "cell_type": "markdown",
   "metadata": {},
   "source": [
    "# **Classes**"
   ]
  },
  {
   "cell_type": "markdown",
   "metadata": {},
   "source": [
    "## Classe 1: Fazer o slipt por user"
   ]
  },
  {
   "cell_type": "code",
   "execution_count": 15,
   "metadata": {},
   "outputs": [],
   "source": [
    "class AmostragemUser:\n",
    "    def __init__(self, tabela:pd.DataFrame, coluna_user:str):\n",
    "        self.tabela = tabela\n",
    "        self.coluna_user = coluna_user\n",
    "        self.amostragem1 = None\n",
    "\n",
    "    def amostragem(self, porcentagem):\n",
    "        self.amostragem1 = np.random.choice(self.tabela[self.coluna_user].unique(),\n",
    "                                            size=int(len(self.tabela[self.coluna_user].unique()) * porcentagem),\n",
    "                                            replace=False)\n",
    "        return self.amostragem1\n",
    "\n",
    "    def df_treino(self):\n",
    "        if self.amostragem1 is None:\n",
    "            raise ValueError(\"Realize a amostragem antes de chamar este método\")\n",
    "        amostragem_tabela = self.tabela.loc[self.tabela[self.coluna_user].isin(self.amostragem1)]\n",
    "        return amostragem_tabela\n",
    "\n",
    "    def df_teste(self):\n",
    "        if self.amostragem1 is None:\n",
    "            raise ValueError(\"Realize a amostragem antes de chamar este método\")\n",
    "        amostragem_complementar = self.tabela.loc[~self.tabela[self.coluna_user].isin(self.amostragem1)]\n",
    "        return amostragem_complementar"
   ]
  },
  {
   "cell_type": "markdown",
   "metadata": {},
   "source": [
    "## Classe 2: Fazer o slipt da tabela movies"
   ]
  },
  {
   "cell_type": "code",
   "execution_count": 16,
   "metadata": {},
   "outputs": [],
   "source": [
    "class AmostragemMovies:\n",
    "    ''' Classe que faz amostragem da tabela movie a partir da tabela ratings \n",
    "    Args:\n",
    "    - df_rating_treino: tabela rating com os dados de treino\n",
    "    - df_rating_teste: tabela rating com os dados de teste\n",
    "    - df_movie: tabela movie\n",
    "    - col_movie: nome da coluna movie\n",
    "    '''\n",
    "    def __init__(self, df_rating_treino:pd.DataFrame, df_rating_teste:pd.DataFrame, df_movie:pd.DataFrame, col_movie:str):\n",
    "        self.df_rating_treino = df_rating_treino\n",
    "        self.df_rating_teste = df_rating_teste\n",
    "        self.df_movie = df_movie\n",
    "        self.col_movie = col_movie\n",
    "\n",
    "    def movie_treino(self) -> pd.DataFrame:\n",
    "        # Selecionar os \"movieId\" da tabela \"df_rating_treino\"\n",
    "        movieId_treino = np.array(self.df_rating_treino[self.col_movie])\n",
    "        # Filtrar os mesmo de IDs de \"df_rating_treino\" na tabela \"df_movie_treino\"\n",
    "        movies_amostragem_treino = self.df_movie[self.df_movie[self.col_movie].isin(movieId_treino)]\n",
    "\n",
    "        return  movies_amostragem_treino \n",
    "\n",
    "    \n",
    "    def movie_teste(self) -> pd.DataFrame:\n",
    "        # Selecionar os \"movieId\" da tabela \"df_rating_teste\"\n",
    "        movieId_teste = np.array(self.df_rating_teste[self.col_movie])\n",
    "        # Filtrar os mesmo de IDs de \"df_rating_treino\" na tabela \"df_movie_teste\"\n",
    "        movies_amostragem_teste = self.df_movie[self.df_movie[self.col_movie].isin(movieId_teste)]\n",
    "\n",
    "        return  movies_amostragem_teste \n"
   ]
  },
  {
   "cell_type": "markdown",
   "metadata": {},
   "source": [
    "## Classe 3: Fazer o slipt da tabela Tags"
   ]
  },
  {
   "cell_type": "code",
   "execution_count": 17,
   "metadata": {},
   "outputs": [],
   "source": [
    "class AmostragemTags:\n",
    "    ''' Classe que faz o slipt na tabela Tags\n",
    "    '''\n",
    "    def __init__(self, df_ratings_treino: pd.DataFrame, df_ratings_teste: pd.DataFrame, df_tags: pd.DataFrame, col_user: str, col_movie: str):\n",
    "        self.df_ratings_treino = df_ratings_treino\n",
    "        self.df_ratings_teste = df_ratings_teste\n",
    "        self.df_tags = df_tags\n",
    "        self.col_user = col_user\n",
    "        self.col_movie = col_movie\n",
    "\n",
    "    # Método privado\n",
    "    def _filtrar_tags(self, df_ratings: pd.DataFrame) -> pd.DataFrame:\n",
    "        ''' Método privado que realiza a filtragem com base em um DataFrame de entrada.\n",
    "        '''\n",
    "        amostragem_ratings = df_ratings[[self.col_user, self.col_movie]]\n",
    "        return amostragem_ratings.merge(self.df_tags, on=[self.col_movie, self.col_user], how=\"inner\")\n",
    "\n",
    "    def df_tag_treino(self) -> pd.DataFrame:\n",
    "        ''' Utiliza o método _filtrar_tags para criar os dados de treino\n",
    "        '''\n",
    "        return self._filtrar_tags(self.df_ratings_treino)\n",
    "\n",
    "    def df_tag_teste(self) -> pd.DataFrame:\n",
    "        ''' Utiliza o método _filtrar_tags para criar os dados de teste\n",
    "        '''\n",
    "        return self._filtrar_tags(self.df_ratings_teste)\n"
   ]
  },
  {
   "cell_type": "markdown",
   "metadata": {},
   "source": [
    "## Classe 4: Fazer o slipt das tabela Genome-Tags e Genome-Scores"
   ]
  },
  {
   "cell_type": "code",
   "execution_count": 18,
   "metadata": {},
   "outputs": [],
   "source": [
    "class AmostragemGenome:\n",
    "    def __init__(self, df_tag_treino, df_tag_teste, df_genome, col_tag):\n",
    "        '''\n",
    "        Args:\n",
    "        - df_tag : pode ser as tabelas tags ou genome-tags\n",
    "        '''\n",
    "        self.df_tag_treino = df_tag_treino\n",
    "        self.df_tag_teste = df_tag_teste\n",
    "        self.df_genome = df_genome\n",
    "        self.col_tag = col_tag\n",
    "   \n",
    "    def _filtrar_tags(self, df):\n",
    "        # Selecionar as col_tag que serão usadas no filtro \n",
    "        tag_array = np.array(df[self.col_tag])\n",
    "\n",
    "        # Filtrar as col_tag da amostragem\n",
    "        genome_amostragem = self.df_genome.loc[self.df_genome[self.col_tag].isin(tag_array)]      \n",
    "        return genome_amostragem\n",
    "\n",
    "    def df_treino(self):\n",
    "        genome_treino = self._filtrar_tags(self.df_tag_treino)\n",
    "        return genome_treino\n",
    "\n",
    "    def df_teste(self):\n",
    "        genome_teste = self._filtrar_tags(self.df_tag_teste)\n",
    "        return genome_teste\n"
   ]
  },
  {
   "cell_type": "markdown",
   "metadata": {},
   "source": [
    "# **Descrever os dados**\n",
    "Este conjunto de dados têm 6 tabelas com 3.383.2162 classificações e 2.328.315 tags em 86.537 filmes. Esses dados foram criados por 330.975 usuários entre 9 de janeiro de 1995 e 20 de julho de 2023. Este conjunto de dados foi gerado em 20 de julho de 2023.  \n",
    "<br>\n",
    "Os usuários foram selecionados aleatoriamente para inclusão. Todos os usuários selecionados avaliaram pelo menos 1 filme. Nenhuma informação demográfica está incluída. Cada usuário é representado por um ID e nenhuma outra informação é fornecida."
   ]
  },
  {
   "cell_type": "markdown",
   "metadata": {},
   "source": [
    "## O que são genoma tags ?\n",
    "O genoma da tag é uma estrutura de dados que contém pontuações de relevância de tags para filmes. A estrutura é uma matriz densa: cada filme do genoma possui um valor para cada tag do genoma.\n",
    "<br>\n",
    "A coluna `relevance` mostra a relevancia da tag em uma escala contínua (0-1)."
   ]
  },
  {
   "cell_type": "markdown",
   "metadata": {},
   "source": [
    "## Tabela movies\n",
    "A tabelas tem 3 colunas e 86.537 linhas.\n",
    "<br>\n",
    "Não há valores ausentes e os tipos de dados parecem ser adequados.\n"
   ]
  },
  {
   "cell_type": "markdown",
   "metadata": {},
   "source": [
    "### Primeiras linhas da tabela movies"
   ]
  },
  {
   "cell_type": "code",
   "execution_count": 44,
   "metadata": {},
   "outputs": [
    {
     "data": {
      "text/html": [
       "<div>\n",
       "<style scoped>\n",
       "    .dataframe tbody tr th:only-of-type {\n",
       "        vertical-align: middle;\n",
       "    }\n",
       "\n",
       "    .dataframe tbody tr th {\n",
       "        vertical-align: top;\n",
       "    }\n",
       "\n",
       "    .dataframe thead th {\n",
       "        text-align: right;\n",
       "    }\n",
       "</style>\n",
       "<table border=\"1\" class=\"dataframe\">\n",
       "  <thead>\n",
       "    <tr style=\"text-align: right;\">\n",
       "      <th></th>\n",
       "      <th>movieId</th>\n",
       "      <th>title</th>\n",
       "      <th>genres</th>\n",
       "    </tr>\n",
       "  </thead>\n",
       "  <tbody>\n",
       "    <tr>\n",
       "      <th>0</th>\n",
       "      <td>1</td>\n",
       "      <td>Toy Story (1995)</td>\n",
       "      <td>Adventure|Animation|Children|Comedy|Fantasy</td>\n",
       "    </tr>\n",
       "    <tr>\n",
       "      <th>1</th>\n",
       "      <td>2</td>\n",
       "      <td>Jumanji (1995)</td>\n",
       "      <td>Adventure|Children|Fantasy</td>\n",
       "    </tr>\n",
       "    <tr>\n",
       "      <th>2</th>\n",
       "      <td>3</td>\n",
       "      <td>Grumpier Old Men (1995)</td>\n",
       "      <td>Comedy|Romance</td>\n",
       "    </tr>\n",
       "    <tr>\n",
       "      <th>3</th>\n",
       "      <td>4</td>\n",
       "      <td>Waiting to Exhale (1995)</td>\n",
       "      <td>Comedy|Drama|Romance</td>\n",
       "    </tr>\n",
       "    <tr>\n",
       "      <th>4</th>\n",
       "      <td>5</td>\n",
       "      <td>Father of the Bride Part II (1995)</td>\n",
       "      <td>Comedy</td>\n",
       "    </tr>\n",
       "  </tbody>\n",
       "</table>\n",
       "</div>"
      ],
      "text/plain": [
       "   movieId                               title  \\\n",
       "0        1                    Toy Story (1995)   \n",
       "1        2                      Jumanji (1995)   \n",
       "2        3             Grumpier Old Men (1995)   \n",
       "3        4            Waiting to Exhale (1995)   \n",
       "4        5  Father of the Bride Part II (1995)   \n",
       "\n",
       "                                        genres  \n",
       "0  Adventure|Animation|Children|Comedy|Fantasy  \n",
       "1                   Adventure|Children|Fantasy  \n",
       "2                               Comedy|Romance  \n",
       "3                         Comedy|Drama|Romance  \n",
       "4                                       Comedy  "
      ]
     },
     "execution_count": 44,
     "metadata": {},
     "output_type": "execute_result"
    }
   ],
   "source": [
    "movies_amostragem.head()"
   ]
  },
  {
   "cell_type": "markdown",
   "metadata": {},
   "source": [
    "### Descrever dados da tabela movies"
   ]
  },
  {
   "cell_type": "code",
   "execution_count": 16,
   "metadata": {},
   "outputs": [
    {
     "name": "stdout",
     "output_type": "stream",
     "text": [
      "Nº de Linhas: 26770\n",
      "Nº de Colunas: 3\n",
      "\n",
      "\n"
     ]
    },
    {
     "data": {
      "text/html": [
       "<div>\n",
       "<style scoped>\n",
       "    .dataframe tbody tr th:only-of-type {\n",
       "        vertical-align: middle;\n",
       "    }\n",
       "\n",
       "    .dataframe tbody tr th {\n",
       "        vertical-align: top;\n",
       "    }\n",
       "\n",
       "    .dataframe thead th {\n",
       "        text-align: right;\n",
       "    }\n",
       "</style>\n",
       "<table border=\"1\" class=\"dataframe\">\n",
       "  <thead>\n",
       "    <tr style=\"text-align: right;\">\n",
       "      <th></th>\n",
       "      <th>Tipo de dados</th>\n",
       "      <th>Valores únicos</th>\n",
       "      <th>Quantidade de NA´s</th>\n",
       "      <th>Porcentagem de NA´s</th>\n",
       "    </tr>\n",
       "  </thead>\n",
       "  <tbody>\n",
       "    <tr>\n",
       "      <th>movieId</th>\n",
       "      <td>int64</td>\n",
       "      <td>26770</td>\n",
       "      <td>0</td>\n",
       "      <td>0.0</td>\n",
       "    </tr>\n",
       "    <tr>\n",
       "      <th>title</th>\n",
       "      <td>object</td>\n",
       "      <td>26745</td>\n",
       "      <td>0</td>\n",
       "      <td>0.0</td>\n",
       "    </tr>\n",
       "    <tr>\n",
       "      <th>genres</th>\n",
       "      <td>object</td>\n",
       "      <td>1314</td>\n",
       "      <td>0</td>\n",
       "      <td>0.0</td>\n",
       "    </tr>\n",
       "  </tbody>\n",
       "</table>\n",
       "</div>"
      ],
      "text/plain": [
       "        Tipo de dados  Valores únicos  Quantidade de NA´s  Porcentagem de NA´s\n",
       "movieId         int64           26770                   0                  0.0\n",
       "title          object           26745                   0                  0.0\n",
       "genres         object            1314                   0                  0.0"
      ]
     },
     "execution_count": 16,
     "metadata": {},
     "output_type": "execute_result"
    }
   ],
   "source": [
    "descrever_dados(movies_amostragem)"
   ]
  },
  {
   "cell_type": "markdown",
   "metadata": {},
   "source": [
    "## Tabela Ratings\n",
    "A tabela tem 4 linhas e 33.832.162 linhas.\n",
    "<br>\n",
    "Não há valores ausentes e talvez seja preciso fazer alguma modificação na coluna `timestamp`.\n"
   ]
  },
  {
   "cell_type": "markdown",
   "metadata": {},
   "source": [
    "### Primeiras linhas da tabela ratings"
   ]
  },
  {
   "cell_type": "code",
   "execution_count": 17,
   "metadata": {},
   "outputs": [
    {
     "data": {
      "text/html": [
       "<div>\n",
       "<style scoped>\n",
       "    .dataframe tbody tr th:only-of-type {\n",
       "        vertical-align: middle;\n",
       "    }\n",
       "\n",
       "    .dataframe tbody tr th {\n",
       "        vertical-align: top;\n",
       "    }\n",
       "\n",
       "    .dataframe thead th {\n",
       "        text-align: right;\n",
       "    }\n",
       "</style>\n",
       "<table border=\"1\" class=\"dataframe\">\n",
       "  <thead>\n",
       "    <tr style=\"text-align: right;\">\n",
       "      <th></th>\n",
       "      <th>userId</th>\n",
       "      <th>movieId</th>\n",
       "      <th>rating</th>\n",
       "      <th>timestamp</th>\n",
       "    </tr>\n",
       "  </thead>\n",
       "  <tbody>\n",
       "    <tr>\n",
       "      <th>213</th>\n",
       "      <td>5</td>\n",
       "      <td>47</td>\n",
       "      <td>5.0</td>\n",
       "      <td>1029389303</td>\n",
       "    </tr>\n",
       "    <tr>\n",
       "      <th>214</th>\n",
       "      <td>5</td>\n",
       "      <td>175</td>\n",
       "      <td>4.0</td>\n",
       "      <td>1029389417</td>\n",
       "    </tr>\n",
       "    <tr>\n",
       "      <th>215</th>\n",
       "      <td>5</td>\n",
       "      <td>257</td>\n",
       "      <td>4.0</td>\n",
       "      <td>1029389115</td>\n",
       "    </tr>\n",
       "    <tr>\n",
       "      <th>216</th>\n",
       "      <td>5</td>\n",
       "      <td>318</td>\n",
       "      <td>4.0</td>\n",
       "      <td>1029389280</td>\n",
       "    </tr>\n",
       "    <tr>\n",
       "      <th>217</th>\n",
       "      <td>5</td>\n",
       "      <td>319</td>\n",
       "      <td>4.0</td>\n",
       "      <td>1029389327</td>\n",
       "    </tr>\n",
       "  </tbody>\n",
       "</table>\n",
       "</div>"
      ],
      "text/plain": [
       "     userId  movieId  rating   timestamp\n",
       "213       5       47     5.0  1029389303\n",
       "214       5      175     4.0  1029389417\n",
       "215       5      257     4.0  1029389115\n",
       "216       5      318     4.0  1029389280\n",
       "217       5      319     4.0  1029389327"
      ]
     },
     "execution_count": 17,
     "metadata": {},
     "output_type": "execute_result"
    }
   ],
   "source": [
    "#Primeiras linhas da tabela\n",
    "ratings_amostragem.head()"
   ]
  },
  {
   "cell_type": "markdown",
   "metadata": {},
   "source": [
    "### Descrever dados da tabela ratings"
   ]
  },
  {
   "cell_type": "code",
   "execution_count": 18,
   "metadata": {},
   "outputs": [
    {
     "name": "stdout",
     "output_type": "stream",
     "text": [
      "Nº de Linhas: 1028502\n",
      "Nº de Colunas: 4\n",
      "\n",
      "\n"
     ]
    },
    {
     "data": {
      "text/html": [
       "<div>\n",
       "<style scoped>\n",
       "    .dataframe tbody tr th:only-of-type {\n",
       "        vertical-align: middle;\n",
       "    }\n",
       "\n",
       "    .dataframe tbody tr th {\n",
       "        vertical-align: top;\n",
       "    }\n",
       "\n",
       "    .dataframe thead th {\n",
       "        text-align: right;\n",
       "    }\n",
       "</style>\n",
       "<table border=\"1\" class=\"dataframe\">\n",
       "  <thead>\n",
       "    <tr style=\"text-align: right;\">\n",
       "      <th></th>\n",
       "      <th>Tipo de dados</th>\n",
       "      <th>Valores únicos</th>\n",
       "      <th>Quantidade de NA´s</th>\n",
       "      <th>Porcentagem de NA´s</th>\n",
       "    </tr>\n",
       "  </thead>\n",
       "  <tbody>\n",
       "    <tr>\n",
       "      <th>userId</th>\n",
       "      <td>int64</td>\n",
       "      <td>9929</td>\n",
       "      <td>0</td>\n",
       "      <td>0.0</td>\n",
       "    </tr>\n",
       "    <tr>\n",
       "      <th>movieId</th>\n",
       "      <td>int64</td>\n",
       "      <td>26770</td>\n",
       "      <td>0</td>\n",
       "      <td>0.0</td>\n",
       "    </tr>\n",
       "    <tr>\n",
       "      <th>rating</th>\n",
       "      <td>float64</td>\n",
       "      <td>10</td>\n",
       "      <td>0</td>\n",
       "      <td>0.0</td>\n",
       "    </tr>\n",
       "    <tr>\n",
       "      <th>timestamp</th>\n",
       "      <td>int64</td>\n",
       "      <td>859542</td>\n",
       "      <td>0</td>\n",
       "      <td>0.0</td>\n",
       "    </tr>\n",
       "  </tbody>\n",
       "</table>\n",
       "</div>"
      ],
      "text/plain": [
       "          Tipo de dados  Valores únicos  Quantidade de NA´s  \\\n",
       "userId            int64            9929                   0   \n",
       "movieId           int64           26770                   0   \n",
       "rating          float64              10                   0   \n",
       "timestamp         int64          859542                   0   \n",
       "\n",
       "           Porcentagem de NA´s  \n",
       "userId                     0.0  \n",
       "movieId                    0.0  \n",
       "rating                     0.0  \n",
       "timestamp                  0.0  "
      ]
     },
     "execution_count": 18,
     "metadata": {},
     "output_type": "execute_result"
    }
   ],
   "source": [
    "descrever_dados(ratings_amostragem)"
   ]
  },
  {
   "cell_type": "markdown",
   "metadata": {},
   "source": [
    "### Resumo Estatístico da tabela ratings"
   ]
  },
  {
   "cell_type": "code",
   "execution_count": 26,
   "metadata": {},
   "outputs": [
    {
     "data": {
      "text/plain": [
       "count           1028502.00\n",
       "mean                  3.52\n",
       "median (50%)          3.50\n",
       "std                   1.07\n",
       "min                   0.50\n",
       "max                   5.00\n",
       "25%                   3.00\n",
       "50%                   3.50\n",
       "75%                   4.00\n",
       "Name: rating, dtype: float64"
      ]
     },
     "metadata": {},
     "output_type": "display_data"
    }
   ],
   "source": [
    "# Executar função que retorna com o resumo estatístico de ratings\n",
    "resumo_estatistico(tabela=ratings_amostragem , coluna='rating')"
   ]
  },
  {
   "cell_type": "code",
   "execution_count": 28,
   "metadata": {},
   "outputs": [
    {
     "data": {
      "text/html": [
       "<div>\n",
       "<style scoped>\n",
       "    .dataframe tbody tr th:only-of-type {\n",
       "        vertical-align: middle;\n",
       "    }\n",
       "\n",
       "    .dataframe tbody tr th {\n",
       "        vertical-align: top;\n",
       "    }\n",
       "\n",
       "    .dataframe thead th {\n",
       "        text-align: right;\n",
       "    }\n",
       "</style>\n",
       "<table border=\"1\" class=\"dataframe\">\n",
       "  <thead>\n",
       "    <tr style=\"text-align: right;\">\n",
       "      <th></th>\n",
       "      <th>Valor_Único</th>\n",
       "      <th>Frequência</th>\n",
       "      <th>Proporção (%)</th>\n",
       "    </tr>\n",
       "  </thead>\n",
       "  <tbody>\n",
       "    <tr>\n",
       "      <th>0</th>\n",
       "      <td>4.0</td>\n",
       "      <td>267323</td>\n",
       "      <td>25.9915%</td>\n",
       "    </tr>\n",
       "    <tr>\n",
       "      <th>1</th>\n",
       "      <td>3.0</td>\n",
       "      <td>197192</td>\n",
       "      <td>19.1727%</td>\n",
       "    </tr>\n",
       "    <tr>\n",
       "      <th>2</th>\n",
       "      <td>5.0</td>\n",
       "      <td>144397</td>\n",
       "      <td>14.0395%</td>\n",
       "    </tr>\n",
       "    <tr>\n",
       "      <th>3</th>\n",
       "      <td>3.5</td>\n",
       "      <td>135292</td>\n",
       "      <td>13.1543%</td>\n",
       "    </tr>\n",
       "    <tr>\n",
       "      <th>4</th>\n",
       "      <td>4.5</td>\n",
       "      <td>94134</td>\n",
       "      <td>9.1525%</td>\n",
       "    </tr>\n",
       "    <tr>\n",
       "      <th>5</th>\n",
       "      <td>2.0</td>\n",
       "      <td>68080</td>\n",
       "      <td>6.6193%</td>\n",
       "    </tr>\n",
       "    <tr>\n",
       "      <th>6</th>\n",
       "      <td>2.5</td>\n",
       "      <td>55152</td>\n",
       "      <td>5.3624%</td>\n",
       "    </tr>\n",
       "    <tr>\n",
       "      <th>7</th>\n",
       "      <td>1.0</td>\n",
       "      <td>30763</td>\n",
       "      <td>2.9910%</td>\n",
       "    </tr>\n",
       "    <tr>\n",
       "      <th>8</th>\n",
       "      <td>1.5</td>\n",
       "      <td>18275</td>\n",
       "      <td>1.7769%</td>\n",
       "    </tr>\n",
       "    <tr>\n",
       "      <th>9</th>\n",
       "      <td>0.5</td>\n",
       "      <td>17894</td>\n",
       "      <td>1.7398%</td>\n",
       "    </tr>\n",
       "  </tbody>\n",
       "</table>\n",
       "</div>"
      ],
      "text/plain": [
       "   Valor_Único  Frequência Proporção (%)\n",
       "0          4.0      267323      25.9915%\n",
       "1          3.0      197192      19.1727%\n",
       "2          5.0      144397      14.0395%\n",
       "3          3.5      135292      13.1543%\n",
       "4          4.5       94134       9.1525%\n",
       "5          2.0       68080       6.6193%\n",
       "6          2.5       55152       5.3624%\n",
       "7          1.0       30763       2.9910%\n",
       "8          1.5       18275       1.7769%\n",
       "9          0.5       17894       1.7398%"
      ]
     },
     "execution_count": 28,
     "metadata": {},
     "output_type": "execute_result"
    }
   ],
   "source": [
    "# Executar a função que retorna com a frequencia e prorporção de valores únicos de ratings\n",
    "valores_unicos(tabela=ratings_amostragem , coluna=\"rating\")"
   ]
  },
  {
   "cell_type": "code",
   "execution_count": 32,
   "metadata": {},
   "outputs": [
    {
     "data": {
      "image/png": "[encoded data removed]",
      "text/plain": [
       "<Figure size 640x480 with 1 Axes>"
      ]
     },
     "metadata": {},
     "output_type": "display_data"
    }
   ],
   "source": [
    "# Criar um gráfico de contagem para a coluna ratings\n",
    "sns.set(style=\"whitegrid\")\n",
    "sns.countplot(x=ratings_amostragem['rating'], color=\"#04819E\")\n",
    "\n",
    "# Adicionar título e rótulos aos eixos\n",
    "plt.title('Contagem de ocorrências de cada valor de rating', fontsize=16, fontweight='bold')\n",
    "plt.xlabel('Rating', fontsize=14)\n",
    "plt.ylabel('Contagem', fontsize=14)\n",
    "\n",
    "# Remover as bordas de cima e da direita\n",
    "sns.despine(top=True, right=True)\n",
    "\n",
    "# Exibir o gráfico\n",
    "plt.show()\n"
   ]
  },
  {
   "cell_type": "markdown",
   "metadata": {},
   "source": [
    "## Tabela Tags\n",
    "A tabela tem 4 colunas e 2.328.315 linhas. \n",
    "<br>\n",
    "Ela apresenta 17 valores ausentes na coluna `tag` . E, talvez seja necessário mudar o tipo de dados da coluna `timestamp`. "
   ]
  },
  {
   "cell_type": "markdown",
   "metadata": {},
   "source": [
    "### Primeiras linhas da tabela tags"
   ]
  },
  {
   "cell_type": "code",
   "execution_count": 19,
   "metadata": {},
   "outputs": [
    {
     "data": {
      "text/html": [
       "<div>\n",
       "<style scoped>\n",
       "    .dataframe tbody tr th:only-of-type {\n",
       "        vertical-align: middle;\n",
       "    }\n",
       "\n",
       "    .dataframe tbody tr th {\n",
       "        vertical-align: top;\n",
       "    }\n",
       "\n",
       "    .dataframe thead th {\n",
       "        text-align: right;\n",
       "    }\n",
       "</style>\n",
       "<table border=\"1\" class=\"dataframe\">\n",
       "  <thead>\n",
       "    <tr style=\"text-align: right;\">\n",
       "      <th></th>\n",
       "      <th>userId</th>\n",
       "      <th>movieId</th>\n",
       "      <th>tag</th>\n",
       "      <th>timestamp</th>\n",
       "    </tr>\n",
       "  </thead>\n",
       "  <tbody>\n",
       "    <tr>\n",
       "      <th>0</th>\n",
       "      <td>134</td>\n",
       "      <td>89898</td>\n",
       "      <td>advertising</td>\n",
       "      <td>1521614243</td>\n",
       "    </tr>\n",
       "    <tr>\n",
       "      <th>1</th>\n",
       "      <td>134</td>\n",
       "      <td>89898</td>\n",
       "      <td>drugs</td>\n",
       "      <td>1521614238</td>\n",
       "    </tr>\n",
       "    <tr>\n",
       "      <th>2</th>\n",
       "      <td>134</td>\n",
       "      <td>89898</td>\n",
       "      <td>Russia</td>\n",
       "      <td>1521614240</td>\n",
       "    </tr>\n",
       "    <tr>\n",
       "      <th>3</th>\n",
       "      <td>134</td>\n",
       "      <td>182899</td>\n",
       "      <td>Action</td>\n",
       "      <td>1514209025</td>\n",
       "    </tr>\n",
       "    <tr>\n",
       "      <th>4</th>\n",
       "      <td>134</td>\n",
       "      <td>182899</td>\n",
       "      <td>Asia</td>\n",
       "      <td>1514209050</td>\n",
       "    </tr>\n",
       "  </tbody>\n",
       "</table>\n",
       "</div>"
      ],
      "text/plain": [
       "   userId  movieId          tag   timestamp\n",
       "0     134    89898  advertising  1521614243\n",
       "1     134    89898        drugs  1521614238\n",
       "2     134    89898       Russia  1521614240\n",
       "3     134   182899       Action  1514209025\n",
       "4     134   182899         Asia  1514209050"
      ]
     },
     "execution_count": 19,
     "metadata": {},
     "output_type": "execute_result"
    }
   ],
   "source": [
    "tags_amostragem.head()"
   ]
  },
  {
   "cell_type": "markdown",
   "metadata": {},
   "source": [
    "### Descrever dados da tabela tags"
   ]
  },
  {
   "cell_type": "code",
   "execution_count": 20,
   "metadata": {},
   "outputs": [
    {
     "name": "stdout",
     "output_type": "stream",
     "text": [
      "Nº de Linhas: 51299\n",
      "Nº de Colunas: 4\n",
      "\n",
      "\n"
     ]
    },
    {
     "data": {
      "text/html": [
       "<div>\n",
       "<style scoped>\n",
       "    .dataframe tbody tr th:only-of-type {\n",
       "        vertical-align: middle;\n",
       "    }\n",
       "\n",
       "    .dataframe tbody tr th {\n",
       "        vertical-align: top;\n",
       "    }\n",
       "\n",
       "    .dataframe thead th {\n",
       "        text-align: right;\n",
       "    }\n",
       "</style>\n",
       "<table border=\"1\" class=\"dataframe\">\n",
       "  <thead>\n",
       "    <tr style=\"text-align: right;\">\n",
       "      <th></th>\n",
       "      <th>Tipo de dados</th>\n",
       "      <th>Valores únicos</th>\n",
       "      <th>Quantidade de NA´s</th>\n",
       "      <th>Porcentagem de NA´s</th>\n",
       "    </tr>\n",
       "  </thead>\n",
       "  <tbody>\n",
       "    <tr>\n",
       "      <th>userId</th>\n",
       "      <td>int64</td>\n",
       "      <td>674</td>\n",
       "      <td>0</td>\n",
       "      <td>0.0</td>\n",
       "    </tr>\n",
       "    <tr>\n",
       "      <th>movieId</th>\n",
       "      <td>int64</td>\n",
       "      <td>5693</td>\n",
       "      <td>0</td>\n",
       "      <td>0.0</td>\n",
       "    </tr>\n",
       "    <tr>\n",
       "      <th>tag</th>\n",
       "      <td>object</td>\n",
       "      <td>10416</td>\n",
       "      <td>0</td>\n",
       "      <td>0.0</td>\n",
       "    </tr>\n",
       "    <tr>\n",
       "      <th>timestamp</th>\n",
       "      <td>int64</td>\n",
       "      <td>50566</td>\n",
       "      <td>0</td>\n",
       "      <td>0.0</td>\n",
       "    </tr>\n",
       "  </tbody>\n",
       "</table>\n",
       "</div>"
      ],
      "text/plain": [
       "          Tipo de dados  Valores únicos  Quantidade de NA´s  \\\n",
       "userId            int64             674                   0   \n",
       "movieId           int64            5693                   0   \n",
       "tag              object           10416                   0   \n",
       "timestamp         int64           50566                   0   \n",
       "\n",
       "           Porcentagem de NA´s  \n",
       "userId                     0.0  \n",
       "movieId                    0.0  \n",
       "tag                        0.0  \n",
       "timestamp                  0.0  "
      ]
     },
     "execution_count": 20,
     "metadata": {},
     "output_type": "execute_result"
    }
   ],
   "source": [
    "descrever_dados(tags_amostragem)"
   ]
  },
  {
   "cell_type": "markdown",
   "metadata": {},
   "source": [
    "## Tabela genome_tags\n",
    "A tabela tem  2 colunas e 1.128 linhas.\n",
    "<br>\n",
    "Não há valores ausentes e os tipos de dados parecem adequados."
   ]
  },
  {
   "cell_type": "markdown",
   "metadata": {},
   "source": [
    "### Primeiras linhas da tabela genome_tags"
   ]
  },
  {
   "cell_type": "code",
   "execution_count": 21,
   "metadata": {},
   "outputs": [
    {
     "data": {
      "text/html": [
       "<div>\n",
       "<style scoped>\n",
       "    .dataframe tbody tr th:only-of-type {\n",
       "        vertical-align: middle;\n",
       "    }\n",
       "\n",
       "    .dataframe tbody tr th {\n",
       "        vertical-align: top;\n",
       "    }\n",
       "\n",
       "    .dataframe thead th {\n",
       "        text-align: right;\n",
       "    }\n",
       "</style>\n",
       "<table border=\"1\" class=\"dataframe\">\n",
       "  <thead>\n",
       "    <tr style=\"text-align: right;\">\n",
       "      <th></th>\n",
       "      <th>tagId</th>\n",
       "      <th>tag</th>\n",
       "    </tr>\n",
       "  </thead>\n",
       "  <tbody>\n",
       "    <tr>\n",
       "      <th>0</th>\n",
       "      <td>1</td>\n",
       "      <td>007</td>\n",
       "    </tr>\n",
       "    <tr>\n",
       "      <th>1</th>\n",
       "      <td>2</td>\n",
       "      <td>007 (series)</td>\n",
       "    </tr>\n",
       "    <tr>\n",
       "      <th>2</th>\n",
       "      <td>3</td>\n",
       "      <td>18th century</td>\n",
       "    </tr>\n",
       "    <tr>\n",
       "      <th>3</th>\n",
       "      <td>4</td>\n",
       "      <td>1920s</td>\n",
       "    </tr>\n",
       "    <tr>\n",
       "      <th>4</th>\n",
       "      <td>5</td>\n",
       "      <td>1930s</td>\n",
       "    </tr>\n",
       "  </tbody>\n",
       "</table>\n",
       "</div>"
      ],
      "text/plain": [
       "   tagId           tag\n",
       "0      1           007\n",
       "1      2  007 (series)\n",
       "2      3  18th century\n",
       "3      4         1920s\n",
       "4      5         1930s"
      ]
     },
     "execution_count": 21,
     "metadata": {},
     "output_type": "execute_result"
    }
   ],
   "source": [
    "genome_tags_amostragem.head()"
   ]
  },
  {
   "cell_type": "markdown",
   "metadata": {},
   "source": [
    "### Descrever dados da tabela genome_tags"
   ]
  },
  {
   "cell_type": "code",
   "execution_count": 22,
   "metadata": {},
   "outputs": [
    {
     "name": "stdout",
     "output_type": "stream",
     "text": [
      "Nº de Linhas: 977\n",
      "Nº de Colunas: 2\n",
      "\n",
      "\n"
     ]
    },
    {
     "data": {
      "text/html": [
       "<div>\n",
       "<style scoped>\n",
       "    .dataframe tbody tr th:only-of-type {\n",
       "        vertical-align: middle;\n",
       "    }\n",
       "\n",
       "    .dataframe tbody tr th {\n",
       "        vertical-align: top;\n",
       "    }\n",
       "\n",
       "    .dataframe thead th {\n",
       "        text-align: right;\n",
       "    }\n",
       "</style>\n",
       "<table border=\"1\" class=\"dataframe\">\n",
       "  <thead>\n",
       "    <tr style=\"text-align: right;\">\n",
       "      <th></th>\n",
       "      <th>Tipo de dados</th>\n",
       "      <th>Valores únicos</th>\n",
       "      <th>Quantidade de NA´s</th>\n",
       "      <th>Porcentagem de NA´s</th>\n",
       "    </tr>\n",
       "  </thead>\n",
       "  <tbody>\n",
       "    <tr>\n",
       "      <th>tagId</th>\n",
       "      <td>int64</td>\n",
       "      <td>977</td>\n",
       "      <td>0</td>\n",
       "      <td>0.0</td>\n",
       "    </tr>\n",
       "    <tr>\n",
       "      <th>tag</th>\n",
       "      <td>object</td>\n",
       "      <td>977</td>\n",
       "      <td>0</td>\n",
       "      <td>0.0</td>\n",
       "    </tr>\n",
       "  </tbody>\n",
       "</table>\n",
       "</div>"
      ],
      "text/plain": [
       "      Tipo de dados  Valores únicos  Quantidade de NA´s  Porcentagem de NA´s\n",
       "tagId         int64             977                   0                  0.0\n",
       "tag          object             977                   0                  0.0"
      ]
     },
     "execution_count": 22,
     "metadata": {},
     "output_type": "execute_result"
    }
   ],
   "source": [
    "descrever_dados(genome_tags_amostragem)"
   ]
  },
  {
   "cell_type": "markdown",
   "metadata": {},
   "source": [
    "## Tabela genome_scores\n",
    "A tabela tem 3 colunas e 18.472.128 linhas. \n",
    "<br>\n",
    "Não há dados nulos e os tipos de dados parecem adequados."
   ]
  },
  {
   "cell_type": "markdown",
   "metadata": {},
   "source": [
    "### Primeiras linhas da tabela genome_scores"
   ]
  },
  {
   "cell_type": "code",
   "execution_count": 23,
   "metadata": {},
   "outputs": [
    {
     "data": {
      "text/html": [
       "<div>\n",
       "<style scoped>\n",
       "    .dataframe tbody tr th:only-of-type {\n",
       "        vertical-align: middle;\n",
       "    }\n",
       "\n",
       "    .dataframe tbody tr th {\n",
       "        vertical-align: top;\n",
       "    }\n",
       "\n",
       "    .dataframe thead th {\n",
       "        text-align: right;\n",
       "    }\n",
       "</style>\n",
       "<table border=\"1\" class=\"dataframe\">\n",
       "  <thead>\n",
       "    <tr style=\"text-align: right;\">\n",
       "      <th></th>\n",
       "      <th>movieId</th>\n",
       "      <th>tagId</th>\n",
       "      <th>relevance</th>\n",
       "    </tr>\n",
       "  </thead>\n",
       "  <tbody>\n",
       "    <tr>\n",
       "      <th>0</th>\n",
       "      <td>1</td>\n",
       "      <td>1</td>\n",
       "      <td>0.03200</td>\n",
       "    </tr>\n",
       "    <tr>\n",
       "      <th>1</th>\n",
       "      <td>1</td>\n",
       "      <td>2</td>\n",
       "      <td>0.02225</td>\n",
       "    </tr>\n",
       "    <tr>\n",
       "      <th>2</th>\n",
       "      <td>1</td>\n",
       "      <td>3</td>\n",
       "      <td>0.07000</td>\n",
       "    </tr>\n",
       "    <tr>\n",
       "      <th>3</th>\n",
       "      <td>1</td>\n",
       "      <td>4</td>\n",
       "      <td>0.05900</td>\n",
       "    </tr>\n",
       "    <tr>\n",
       "      <th>4</th>\n",
       "      <td>1</td>\n",
       "      <td>5</td>\n",
       "      <td>0.12300</td>\n",
       "    </tr>\n",
       "  </tbody>\n",
       "</table>\n",
       "</div>"
      ],
      "text/plain": [
       "   movieId  tagId  relevance\n",
       "0        1      1    0.03200\n",
       "1        1      2    0.02225\n",
       "2        1      3    0.07000\n",
       "3        1      4    0.05900\n",
       "4        1      5    0.12300"
      ]
     },
     "execution_count": 23,
     "metadata": {},
     "output_type": "execute_result"
    }
   ],
   "source": [
    "genome_scores_amostragem.head()"
   ]
  },
  {
   "cell_type": "markdown",
   "metadata": {},
   "source": [
    "### Descrever dados da tabela genome_scores"
   ]
  },
  {
   "cell_type": "code",
   "execution_count": 24,
   "metadata": {},
   "outputs": [
    {
     "name": "stdout",
     "output_type": "stream",
     "text": [
      "Nº de Linhas: 15999352\n",
      "Nº de Colunas: 3\n",
      "\n",
      "\n"
     ]
    },
    {
     "data": {
      "text/html": [
       "<div>\n",
       "<style scoped>\n",
       "    .dataframe tbody tr th:only-of-type {\n",
       "        vertical-align: middle;\n",
       "    }\n",
       "\n",
       "    .dataframe tbody tr th {\n",
       "        vertical-align: top;\n",
       "    }\n",
       "\n",
       "    .dataframe thead th {\n",
       "        text-align: right;\n",
       "    }\n",
       "</style>\n",
       "<table border=\"1\" class=\"dataframe\">\n",
       "  <thead>\n",
       "    <tr style=\"text-align: right;\">\n",
       "      <th></th>\n",
       "      <th>Tipo de dados</th>\n",
       "      <th>Valores únicos</th>\n",
       "      <th>Quantidade de NA´s</th>\n",
       "      <th>Porcentagem de NA´s</th>\n",
       "    </tr>\n",
       "  </thead>\n",
       "  <tbody>\n",
       "    <tr>\n",
       "      <th>movieId</th>\n",
       "      <td>int64</td>\n",
       "      <td>16376</td>\n",
       "      <td>0</td>\n",
       "      <td>0.0</td>\n",
       "    </tr>\n",
       "    <tr>\n",
       "      <th>tagId</th>\n",
       "      <td>int64</td>\n",
       "      <td>977</td>\n",
       "      <td>0</td>\n",
       "      <td>0.0</td>\n",
       "    </tr>\n",
       "    <tr>\n",
       "      <th>relevance</th>\n",
       "      <td>float64</td>\n",
       "      <td>4000</td>\n",
       "      <td>0</td>\n",
       "      <td>0.0</td>\n",
       "    </tr>\n",
       "  </tbody>\n",
       "</table>\n",
       "</div>"
      ],
      "text/plain": [
       "          Tipo de dados  Valores únicos  Quantidade de NA´s  \\\n",
       "movieId           int64           16376                   0   \n",
       "tagId             int64             977                   0   \n",
       "relevance       float64            4000                   0   \n",
       "\n",
       "           Porcentagem de NA´s  \n",
       "movieId                    0.0  \n",
       "tagId                      0.0  \n",
       "relevance                  0.0  "
      ]
     },
     "execution_count": 24,
     "metadata": {},
     "output_type": "execute_result"
    }
   ],
   "source": [
    "descrever_dados(genome_scores_amostragem)"
   ]
  },
  {
   "cell_type": "markdown",
   "metadata": {},
   "source": [
    "# ⚠ **Limpeza**\n",
    "> #### Não há dados nulos, por isso, não há necessidade de limpeza."
   ]
  },
  {
   "cell_type": "markdown",
   "metadata": {},
   "source": [
    "# **Splits**"
   ]
  },
  {
   "cell_type": "markdown",
   "metadata": {},
   "source": [
    "## Split na tabela ratings"
   ]
  },
  {
   "cell_type": "code",
   "execution_count": 10,
   "metadata": {},
   "outputs": [],
   "source": [
    "split_ratings = AmostragemUser(tabela = ratings_amostragem, coluna_user = \"userId\" )"
   ]
  },
  {
   "cell_type": "code",
   "execution_count": 11,
   "metadata": {},
   "outputs": [
    {
     "data": {
      "text/plain": [
       "array([ 59939, 286046, 129833, ..., 173600, 199398, 130044], dtype=int64)"
      ]
     },
     "execution_count": 11,
     "metadata": {},
     "output_type": "execute_result"
    }
   ],
   "source": [
    "split_ratings.amostragem(0.8)"
   ]
  },
  {
   "cell_type": "code",
   "execution_count": 12,
   "metadata": {},
   "outputs": [
    {
     "data": {
      "text/html": [
       "<div>\n",
       "<style scoped>\n",
       "    .dataframe tbody tr th:only-of-type {\n",
       "        vertical-align: middle;\n",
       "    }\n",
       "\n",
       "    .dataframe tbody tr th {\n",
       "        vertical-align: top;\n",
       "    }\n",
       "\n",
       "    .dataframe thead th {\n",
       "        text-align: right;\n",
       "    }\n",
       "</style>\n",
       "<table border=\"1\" class=\"dataframe\">\n",
       "  <thead>\n",
       "    <tr style=\"text-align: right;\">\n",
       "      <th></th>\n",
       "      <th>userId</th>\n",
       "      <th>movieId</th>\n",
       "      <th>rating</th>\n",
       "      <th>timestamp</th>\n",
       "    </tr>\n",
       "  </thead>\n",
       "  <tbody>\n",
       "    <tr>\n",
       "      <th>213</th>\n",
       "      <td>5</td>\n",
       "      <td>47</td>\n",
       "      <td>5.0</td>\n",
       "      <td>1029389303</td>\n",
       "    </tr>\n",
       "    <tr>\n",
       "      <th>214</th>\n",
       "      <td>5</td>\n",
       "      <td>175</td>\n",
       "      <td>4.0</td>\n",
       "      <td>1029389417</td>\n",
       "    </tr>\n",
       "    <tr>\n",
       "      <th>215</th>\n",
       "      <td>5</td>\n",
       "      <td>257</td>\n",
       "      <td>4.0</td>\n",
       "      <td>1029389115</td>\n",
       "    </tr>\n",
       "    <tr>\n",
       "      <th>216</th>\n",
       "      <td>5</td>\n",
       "      <td>318</td>\n",
       "      <td>4.0</td>\n",
       "      <td>1029389280</td>\n",
       "    </tr>\n",
       "    <tr>\n",
       "      <th>217</th>\n",
       "      <td>5</td>\n",
       "      <td>319</td>\n",
       "      <td>4.0</td>\n",
       "      <td>1029389327</td>\n",
       "    </tr>\n",
       "    <tr>\n",
       "      <th>...</th>\n",
       "      <td>...</td>\n",
       "      <td>...</td>\n",
       "      <td>...</td>\n",
       "      <td>...</td>\n",
       "    </tr>\n",
       "    <tr>\n",
       "      <th>33830996</th>\n",
       "      <td>330963</td>\n",
       "      <td>53953</td>\n",
       "      <td>0.5</td>\n",
       "      <td>1230144729</td>\n",
       "    </tr>\n",
       "    <tr>\n",
       "      <th>33830997</th>\n",
       "      <td>330963</td>\n",
       "      <td>54190</td>\n",
       "      <td>3.0</td>\n",
       "      <td>1230144915</td>\n",
       "    </tr>\n",
       "    <tr>\n",
       "      <th>33830998</th>\n",
       "      <td>330963</td>\n",
       "      <td>55069</td>\n",
       "      <td>5.0</td>\n",
       "      <td>1230144786</td>\n",
       "    </tr>\n",
       "    <tr>\n",
       "      <th>33830999</th>\n",
       "      <td>330963</td>\n",
       "      <td>55282</td>\n",
       "      <td>5.0</td>\n",
       "      <td>1230144757</td>\n",
       "    </tr>\n",
       "    <tr>\n",
       "      <th>33831000</th>\n",
       "      <td>330963</td>\n",
       "      <td>58293</td>\n",
       "      <td>0.5</td>\n",
       "      <td>1230144558</td>\n",
       "    </tr>\n",
       "  </tbody>\n",
       "</table>\n",
       "<p>820508 rows × 4 columns</p>\n",
       "</div>"
      ],
      "text/plain": [
       "          userId  movieId  rating   timestamp\n",
       "213            5       47     5.0  1029389303\n",
       "214            5      175     4.0  1029389417\n",
       "215            5      257     4.0  1029389115\n",
       "216            5      318     4.0  1029389280\n",
       "217            5      319     4.0  1029389327\n",
       "...          ...      ...     ...         ...\n",
       "33830996  330963    53953     0.5  1230144729\n",
       "33830997  330963    54190     3.0  1230144915\n",
       "33830998  330963    55069     5.0  1230144786\n",
       "33830999  330963    55282     5.0  1230144757\n",
       "33831000  330963    58293     0.5  1230144558\n",
       "\n",
       "[820508 rows x 4 columns]"
      ]
     },
     "execution_count": 12,
     "metadata": {},
     "output_type": "execute_result"
    }
   ],
   "source": [
    "ratings_treino = split_ratings.df_treino()\n",
    "ratings_treino "
   ]
  },
  {
   "cell_type": "code",
   "execution_count": 13,
   "metadata": {},
   "outputs": [
    {
     "data": {
      "text/html": [
       "<div>\n",
       "<style scoped>\n",
       "    .dataframe tbody tr th:only-of-type {\n",
       "        vertical-align: middle;\n",
       "    }\n",
       "\n",
       "    .dataframe tbody tr th {\n",
       "        vertical-align: top;\n",
       "    }\n",
       "\n",
       "    .dataframe thead th {\n",
       "        text-align: right;\n",
       "    }\n",
       "</style>\n",
       "<table border=\"1\" class=\"dataframe\">\n",
       "  <thead>\n",
       "    <tr style=\"text-align: right;\">\n",
       "      <th></th>\n",
       "      <th>userId</th>\n",
       "      <th>movieId</th>\n",
       "      <th>rating</th>\n",
       "      <th>timestamp</th>\n",
       "    </tr>\n",
       "  </thead>\n",
       "  <tbody>\n",
       "    <tr>\n",
       "      <th>11083</th>\n",
       "      <td>128</td>\n",
       "      <td>168</td>\n",
       "      <td>3.0</td>\n",
       "      <td>901631778</td>\n",
       "    </tr>\n",
       "    <tr>\n",
       "      <th>11084</th>\n",
       "      <td>128</td>\n",
       "      <td>208</td>\n",
       "      <td>1.0</td>\n",
       "      <td>901631856</td>\n",
       "    </tr>\n",
       "    <tr>\n",
       "      <th>11085</th>\n",
       "      <td>128</td>\n",
       "      <td>356</td>\n",
       "      <td>4.0</td>\n",
       "      <td>901632020</td>\n",
       "    </tr>\n",
       "    <tr>\n",
       "      <th>11086</th>\n",
       "      <td>128</td>\n",
       "      <td>480</td>\n",
       "      <td>2.0</td>\n",
       "      <td>901631678</td>\n",
       "    </tr>\n",
       "    <tr>\n",
       "      <th>11087</th>\n",
       "      <td>128</td>\n",
       "      <td>590</td>\n",
       "      <td>2.0</td>\n",
       "      <td>901631481</td>\n",
       "    </tr>\n",
       "    <tr>\n",
       "      <th>...</th>\n",
       "      <td>...</td>\n",
       "      <td>...</td>\n",
       "      <td>...</td>\n",
       "      <td>...</td>\n",
       "    </tr>\n",
       "    <tr>\n",
       "      <th>33829593</th>\n",
       "      <td>330948</td>\n",
       "      <td>115210</td>\n",
       "      <td>1.0</td>\n",
       "      <td>1452142688</td>\n",
       "    </tr>\n",
       "    <tr>\n",
       "      <th>33829594</th>\n",
       "      <td>330948</td>\n",
       "      <td>129779</td>\n",
       "      <td>1.5</td>\n",
       "      <td>1452141617</td>\n",
       "    </tr>\n",
       "    <tr>\n",
       "      <th>33829595</th>\n",
       "      <td>330948</td>\n",
       "      <td>130634</td>\n",
       "      <td>0.5</td>\n",
       "      <td>1452141204</td>\n",
       "    </tr>\n",
       "    <tr>\n",
       "      <th>33829596</th>\n",
       "      <td>330948</td>\n",
       "      <td>132584</td>\n",
       "      <td>0.5</td>\n",
       "      <td>1452142683</td>\n",
       "    </tr>\n",
       "    <tr>\n",
       "      <th>33829597</th>\n",
       "      <td>330948</td>\n",
       "      <td>136459</td>\n",
       "      <td>1.5</td>\n",
       "      <td>1452144383</td>\n",
       "    </tr>\n",
       "  </tbody>\n",
       "</table>\n",
       "<p>207994 rows × 4 columns</p>\n",
       "</div>"
      ],
      "text/plain": [
       "          userId  movieId  rating   timestamp\n",
       "11083        128      168     3.0   901631778\n",
       "11084        128      208     1.0   901631856\n",
       "11085        128      356     4.0   901632020\n",
       "11086        128      480     2.0   901631678\n",
       "11087        128      590     2.0   901631481\n",
       "...          ...      ...     ...         ...\n",
       "33829593  330948   115210     1.0  1452142688\n",
       "33829594  330948   129779     1.5  1452141617\n",
       "33829595  330948   130634     0.5  1452141204\n",
       "33829596  330948   132584     0.5  1452142683\n",
       "33829597  330948   136459     1.5  1452144383\n",
       "\n",
       "[207994 rows x 4 columns]"
      ]
     },
     "execution_count": 13,
     "metadata": {},
     "output_type": "execute_result"
    }
   ],
   "source": [
    "ratings_teste = split_ratings.df_teste()\n",
    "ratings_teste "
   ]
  },
  {
   "cell_type": "code",
   "execution_count": 14,
   "metadata": {},
   "outputs": [],
   "source": [
    "# Salvar tabela ratings_treino \n",
    "ratings_treino.to_pickle(\"C:/0.Projetos/5.Sistema_de_Recomendação_MovieLens_2/Datasets/2.Datasets_Limpeza/ratings_treino.pickle\", compression=\"gzip\") "
   ]
  },
  {
   "cell_type": "code",
   "execution_count": 15,
   "metadata": {},
   "outputs": [],
   "source": [
    "# Salvar tabela ratings_teste\n",
    "ratings_teste.to_pickle(\"C:/0.Projetos/5.Sistema_de_Recomendação_MovieLens_2/Datasets/2.Datasets_Limpeza/ratings_teste.pickle\", compression=\"gzip\") "
   ]
  },
  {
   "cell_type": "markdown",
   "metadata": {},
   "source": [
    "## Split na tabela movies\n"
   ]
  },
  {
   "cell_type": "code",
   "execution_count": 16,
   "metadata": {},
   "outputs": [],
   "source": [
    "# Inicializar classe que realiza o slipt\n",
    "split_movies = AmostragemMovies(df_movie=movies_amostragem,\n",
    "                                df_rating_teste= ratings_teste , \n",
    "                                df_rating_treino=ratings_treino , col_movie='movieId')"
   ]
  },
  {
   "cell_type": "code",
   "execution_count": 17,
   "metadata": {},
   "outputs": [],
   "source": [
    "# Tabela com os dados de treino\n",
    "movies_treino = split_movies.movie_treino()"
   ]
  },
  {
   "cell_type": "code",
   "execution_count": 18,
   "metadata": {},
   "outputs": [
    {
     "data": {
      "text/html": [
       "<div>\n",
       "<style scoped>\n",
       "    .dataframe tbody tr th:only-of-type {\n",
       "        vertical-align: middle;\n",
       "    }\n",
       "\n",
       "    .dataframe tbody tr th {\n",
       "        vertical-align: top;\n",
       "    }\n",
       "\n",
       "    .dataframe thead th {\n",
       "        text-align: right;\n",
       "    }\n",
       "</style>\n",
       "<table border=\"1\" class=\"dataframe\">\n",
       "  <thead>\n",
       "    <tr style=\"text-align: right;\">\n",
       "      <th></th>\n",
       "      <th>movieId</th>\n",
       "      <th>title</th>\n",
       "      <th>genres</th>\n",
       "    </tr>\n",
       "  </thead>\n",
       "  <tbody>\n",
       "    <tr>\n",
       "      <th>0</th>\n",
       "      <td>1</td>\n",
       "      <td>Toy Story (1995)</td>\n",
       "      <td>Adventure|Animation|Children|Comedy|Fantasy</td>\n",
       "    </tr>\n",
       "    <tr>\n",
       "      <th>1</th>\n",
       "      <td>2</td>\n",
       "      <td>Jumanji (1995)</td>\n",
       "      <td>Adventure|Children|Fantasy</td>\n",
       "    </tr>\n",
       "    <tr>\n",
       "      <th>2</th>\n",
       "      <td>3</td>\n",
       "      <td>Grumpier Old Men (1995)</td>\n",
       "      <td>Comedy|Romance</td>\n",
       "    </tr>\n",
       "    <tr>\n",
       "      <th>3</th>\n",
       "      <td>4</td>\n",
       "      <td>Waiting to Exhale (1995)</td>\n",
       "      <td>Comedy|Drama|Romance</td>\n",
       "    </tr>\n",
       "    <tr>\n",
       "      <th>4</th>\n",
       "      <td>5</td>\n",
       "      <td>Father of the Bride Part II (1995)</td>\n",
       "      <td>Comedy</td>\n",
       "    </tr>\n",
       "    <tr>\n",
       "      <th>...</th>\n",
       "      <td>...</td>\n",
       "      <td>...</td>\n",
       "      <td>...</td>\n",
       "    </tr>\n",
       "    <tr>\n",
       "      <th>86397</th>\n",
       "      <td>288557</td>\n",
       "      <td>Initial D: Third Stage (2001)</td>\n",
       "      <td>Action|Animation|Romance</td>\n",
       "    </tr>\n",
       "    <tr>\n",
       "      <th>86427</th>\n",
       "      <td>288647</td>\n",
       "      <td>Everybody's Oma (2022)</td>\n",
       "      <td>Documentary</td>\n",
       "    </tr>\n",
       "    <tr>\n",
       "      <th>86435</th>\n",
       "      <td>288669</td>\n",
       "      <td>Insidious: The Red Door (2023)</td>\n",
       "      <td>Horror|Mystery|Thriller</td>\n",
       "    </tr>\n",
       "    <tr>\n",
       "      <th>86439</th>\n",
       "      <td>288679</td>\n",
       "      <td>The Out-Laws (2023)</td>\n",
       "      <td>Action|Comedy|Romance</td>\n",
       "    </tr>\n",
       "    <tr>\n",
       "      <th>86470</th>\n",
       "      <td>288761</td>\n",
       "      <td>Novalis - Die blaue Blume (1993)</td>\n",
       "      <td>Drama</td>\n",
       "    </tr>\n",
       "  </tbody>\n",
       "</table>\n",
       "<p>24345 rows × 3 columns</p>\n",
       "</div>"
      ],
      "text/plain": [
       "       movieId                               title  \\\n",
       "0            1                    Toy Story (1995)   \n",
       "1            2                      Jumanji (1995)   \n",
       "2            3             Grumpier Old Men (1995)   \n",
       "3            4            Waiting to Exhale (1995)   \n",
       "4            5  Father of the Bride Part II (1995)   \n",
       "...        ...                                 ...   \n",
       "86397   288557       Initial D: Third Stage (2001)   \n",
       "86427   288647              Everybody's Oma (2022)   \n",
       "86435   288669      Insidious: The Red Door (2023)   \n",
       "86439   288679                 The Out-Laws (2023)   \n",
       "86470   288761    Novalis - Die blaue Blume (1993)   \n",
       "\n",
       "                                            genres  \n",
       "0      Adventure|Animation|Children|Comedy|Fantasy  \n",
       "1                       Adventure|Children|Fantasy  \n",
       "2                                   Comedy|Romance  \n",
       "3                             Comedy|Drama|Romance  \n",
       "4                                           Comedy  \n",
       "...                                            ...  \n",
       "86397                     Action|Animation|Romance  \n",
       "86427                                  Documentary  \n",
       "86435                      Horror|Mystery|Thriller  \n",
       "86439                        Action|Comedy|Romance  \n",
       "86470                                        Drama  \n",
       "\n",
       "[24345 rows x 3 columns]"
      ]
     },
     "execution_count": 18,
     "metadata": {},
     "output_type": "execute_result"
    }
   ],
   "source": [
    "movies_treino"
   ]
  },
  {
   "cell_type": "code",
   "execution_count": 19,
   "metadata": {},
   "outputs": [],
   "source": [
    "# Tabela com os dados de teste\n",
    "movies_teste = split_movies.movie_teste()"
   ]
  },
  {
   "cell_type": "code",
   "execution_count": 20,
   "metadata": {},
   "outputs": [
    {
     "data": {
      "text/html": [
       "<div>\n",
       "<style scoped>\n",
       "    .dataframe tbody tr th:only-of-type {\n",
       "        vertical-align: middle;\n",
       "    }\n",
       "\n",
       "    .dataframe tbody tr th {\n",
       "        vertical-align: top;\n",
       "    }\n",
       "\n",
       "    .dataframe thead th {\n",
       "        text-align: right;\n",
       "    }\n",
       "</style>\n",
       "<table border=\"1\" class=\"dataframe\">\n",
       "  <thead>\n",
       "    <tr style=\"text-align: right;\">\n",
       "      <th></th>\n",
       "      <th>movieId</th>\n",
       "      <th>title</th>\n",
       "      <th>genres</th>\n",
       "    </tr>\n",
       "  </thead>\n",
       "  <tbody>\n",
       "    <tr>\n",
       "      <th>0</th>\n",
       "      <td>1</td>\n",
       "      <td>Toy Story (1995)</td>\n",
       "      <td>Adventure|Animation|Children|Comedy|Fantasy</td>\n",
       "    </tr>\n",
       "    <tr>\n",
       "      <th>1</th>\n",
       "      <td>2</td>\n",
       "      <td>Jumanji (1995)</td>\n",
       "      <td>Adventure|Children|Fantasy</td>\n",
       "    </tr>\n",
       "    <tr>\n",
       "      <th>2</th>\n",
       "      <td>3</td>\n",
       "      <td>Grumpier Old Men (1995)</td>\n",
       "      <td>Comedy|Romance</td>\n",
       "    </tr>\n",
       "    <tr>\n",
       "      <th>3</th>\n",
       "      <td>4</td>\n",
       "      <td>Waiting to Exhale (1995)</td>\n",
       "      <td>Comedy|Drama|Romance</td>\n",
       "    </tr>\n",
       "    <tr>\n",
       "      <th>4</th>\n",
       "      <td>5</td>\n",
       "      <td>Father of the Bride Part II (1995)</td>\n",
       "      <td>Comedy</td>\n",
       "    </tr>\n",
       "    <tr>\n",
       "      <th>...</th>\n",
       "      <td>...</td>\n",
       "      <td>...</td>\n",
       "      <td>...</td>\n",
       "    </tr>\n",
       "    <tr>\n",
       "      <th>86161</th>\n",
       "      <td>287639</td>\n",
       "      <td>Blood &amp; Gold (2023)</td>\n",
       "      <td>Action|Drama|War</td>\n",
       "    </tr>\n",
       "    <tr>\n",
       "      <th>86187</th>\n",
       "      <td>287707</td>\n",
       "      <td>The Wrath of Becky (2023)</td>\n",
       "      <td>Action|Crime|Horror|Thriller</td>\n",
       "    </tr>\n",
       "    <tr>\n",
       "      <th>86320</th>\n",
       "      <td>288265</td>\n",
       "      <td>Mission: Impossible - Dead Reckoning Part One ...</td>\n",
       "      <td>Action|Adventure|Thriller</td>\n",
       "    </tr>\n",
       "    <tr>\n",
       "      <th>86336</th>\n",
       "      <td>288307</td>\n",
       "      <td>Family Dinner (2023)</td>\n",
       "      <td>Drama|Horror|Mystery|Thriller</td>\n",
       "    </tr>\n",
       "    <tr>\n",
       "      <th>86338</th>\n",
       "      <td>288311</td>\n",
       "      <td>Nimona (2023)</td>\n",
       "      <td>Action|Adventure|Animation|Fantasy|Sci-Fi</td>\n",
       "    </tr>\n",
       "  </tbody>\n",
       "</table>\n",
       "<p>15507 rows × 3 columns</p>\n",
       "</div>"
      ],
      "text/plain": [
       "       movieId                                              title  \\\n",
       "0            1                                   Toy Story (1995)   \n",
       "1            2                                     Jumanji (1995)   \n",
       "2            3                            Grumpier Old Men (1995)   \n",
       "3            4                           Waiting to Exhale (1995)   \n",
       "4            5                 Father of the Bride Part II (1995)   \n",
       "...        ...                                                ...   \n",
       "86161   287639                                Blood & Gold (2023)   \n",
       "86187   287707                          The Wrath of Becky (2023)   \n",
       "86320   288265  Mission: Impossible - Dead Reckoning Part One ...   \n",
       "86336   288307                               Family Dinner (2023)   \n",
       "86338   288311                                      Nimona (2023)   \n",
       "\n",
       "                                            genres  \n",
       "0      Adventure|Animation|Children|Comedy|Fantasy  \n",
       "1                       Adventure|Children|Fantasy  \n",
       "2                                   Comedy|Romance  \n",
       "3                             Comedy|Drama|Romance  \n",
       "4                                           Comedy  \n",
       "...                                            ...  \n",
       "86161                             Action|Drama|War  \n",
       "86187                 Action|Crime|Horror|Thriller  \n",
       "86320                    Action|Adventure|Thriller  \n",
       "86336                Drama|Horror|Mystery|Thriller  \n",
       "86338    Action|Adventure|Animation|Fantasy|Sci-Fi  \n",
       "\n",
       "[15507 rows x 3 columns]"
      ]
     },
     "execution_count": 20,
     "metadata": {},
     "output_type": "execute_result"
    }
   ],
   "source": [
    "movies_teste"
   ]
  },
  {
   "cell_type": "code",
   "execution_count": 21,
   "metadata": {},
   "outputs": [],
   "source": [
    "# Salvar tabela com os dados de treino\n",
    "movies_treino.to_pickle(\"C:/0.Projetos/5.Sistema_de_Recomendação_MovieLens_2/Datasets/2.Datasets_Limpeza/movies_treino.pickle\", compression=\"gzip\") "
   ]
  },
  {
   "cell_type": "code",
   "execution_count": 22,
   "metadata": {},
   "outputs": [],
   "source": [
    "# Salvar tabela com os dados de teste\n",
    "movies_teste.to_pickle(\"C:/0.Projetos/5.Sistema_de_Recomendação_MovieLens_2/Datasets/2.Datasets_Limpeza/movies_teste.pickle\", compression=\"gzip\")"
   ]
  },
  {
   "cell_type": "markdown",
   "metadata": {},
   "source": [
    "## Split na tabela Tags"
   ]
  },
  {
   "cell_type": "code",
   "execution_count": 29,
   "metadata": {},
   "outputs": [],
   "source": [
    "# Inicializar a classe que fará o split na tabela Tags\n",
    "split_tags = AmostragemTags(df_ratings_teste=ratings_teste ,\n",
    "                            df_ratings_treino=ratings_treino,\n",
    "                            df_tags = tags_amostragem,\n",
    "                            col_user= 'userId', col_movie= 'movieId')"
   ]
  },
  {
   "cell_type": "code",
   "execution_count": 30,
   "metadata": {},
   "outputs": [],
   "source": [
    "# Tabela com os dados de treino\n",
    "tags_treino = split_tags.df_tag_treino()"
   ]
  },
  {
   "cell_type": "code",
   "execution_count": 31,
   "metadata": {},
   "outputs": [
    {
     "data": {
      "text/html": [
       "<div>\n",
       "<style scoped>\n",
       "    .dataframe tbody tr th:only-of-type {\n",
       "        vertical-align: middle;\n",
       "    }\n",
       "\n",
       "    .dataframe tbody tr th {\n",
       "        vertical-align: top;\n",
       "    }\n",
       "\n",
       "    .dataframe thead th {\n",
       "        text-align: right;\n",
       "    }\n",
       "</style>\n",
       "<table border=\"1\" class=\"dataframe\">\n",
       "  <thead>\n",
       "    <tr style=\"text-align: right;\">\n",
       "      <th></th>\n",
       "      <th>userId</th>\n",
       "      <th>movieId</th>\n",
       "      <th>tag</th>\n",
       "      <th>timestamp</th>\n",
       "    </tr>\n",
       "  </thead>\n",
       "  <tbody>\n",
       "    <tr>\n",
       "      <th>0</th>\n",
       "      <td>134</td>\n",
       "      <td>89898</td>\n",
       "      <td>advertising</td>\n",
       "      <td>1521614243</td>\n",
       "    </tr>\n",
       "    <tr>\n",
       "      <th>1</th>\n",
       "      <td>134</td>\n",
       "      <td>89898</td>\n",
       "      <td>drugs</td>\n",
       "      <td>1521614238</td>\n",
       "    </tr>\n",
       "    <tr>\n",
       "      <th>2</th>\n",
       "      <td>134</td>\n",
       "      <td>89898</td>\n",
       "      <td>Russia</td>\n",
       "      <td>1521614240</td>\n",
       "    </tr>\n",
       "    <tr>\n",
       "      <th>3</th>\n",
       "      <td>134</td>\n",
       "      <td>182899</td>\n",
       "      <td>Action</td>\n",
       "      <td>1514209025</td>\n",
       "    </tr>\n",
       "    <tr>\n",
       "      <th>4</th>\n",
       "      <td>134</td>\n",
       "      <td>182899</td>\n",
       "      <td>Asia</td>\n",
       "      <td>1514209050</td>\n",
       "    </tr>\n",
       "    <tr>\n",
       "      <th>...</th>\n",
       "      <td>...</td>\n",
       "      <td>...</td>\n",
       "      <td>...</td>\n",
       "      <td>...</td>\n",
       "    </tr>\n",
       "    <tr>\n",
       "      <th>44612</th>\n",
       "      <td>330008</td>\n",
       "      <td>79091</td>\n",
       "      <td>nerds</td>\n",
       "      <td>1433358037</td>\n",
       "    </tr>\n",
       "    <tr>\n",
       "      <th>44613</th>\n",
       "      <td>330008</td>\n",
       "      <td>79091</td>\n",
       "      <td>supervillain</td>\n",
       "      <td>1433358009</td>\n",
       "    </tr>\n",
       "    <tr>\n",
       "      <th>44614</th>\n",
       "      <td>330008</td>\n",
       "      <td>81564</td>\n",
       "      <td>animation</td>\n",
       "      <td>1433357978</td>\n",
       "    </tr>\n",
       "    <tr>\n",
       "      <th>44615</th>\n",
       "      <td>330008</td>\n",
       "      <td>81564</td>\n",
       "      <td>funny</td>\n",
       "      <td>1433357989</td>\n",
       "    </tr>\n",
       "    <tr>\n",
       "      <th>44616</th>\n",
       "      <td>330008</td>\n",
       "      <td>81564</td>\n",
       "      <td>supervillain</td>\n",
       "      <td>1433357964</td>\n",
       "    </tr>\n",
       "  </tbody>\n",
       "</table>\n",
       "<p>44617 rows × 4 columns</p>\n",
       "</div>"
      ],
      "text/plain": [
       "       userId  movieId           tag   timestamp\n",
       "0         134    89898   advertising  1521614243\n",
       "1         134    89898         drugs  1521614238\n",
       "2         134    89898        Russia  1521614240\n",
       "3         134   182899        Action  1514209025\n",
       "4         134   182899          Asia  1514209050\n",
       "...       ...      ...           ...         ...\n",
       "44612  330008    79091         nerds  1433358037\n",
       "44613  330008    79091  supervillain  1433358009\n",
       "44614  330008    81564     animation  1433357978\n",
       "44615  330008    81564         funny  1433357989\n",
       "44616  330008    81564  supervillain  1433357964\n",
       "\n",
       "[44617 rows x 4 columns]"
      ]
     },
     "execution_count": 31,
     "metadata": {},
     "output_type": "execute_result"
    }
   ],
   "source": [
    "tags_treino"
   ]
  },
  {
   "cell_type": "code",
   "execution_count": 32,
   "metadata": {},
   "outputs": [],
   "source": [
    "# Tabela com os dados de teste\n",
    "tags_teste = split_tags.df_tag_teste()"
   ]
  },
  {
   "cell_type": "code",
   "execution_count": 33,
   "metadata": {},
   "outputs": [
    {
     "data": {
      "text/html": [
       "<div>\n",
       "<style scoped>\n",
       "    .dataframe tbody tr th:only-of-type {\n",
       "        vertical-align: middle;\n",
       "    }\n",
       "\n",
       "    .dataframe tbody tr th {\n",
       "        vertical-align: top;\n",
       "    }\n",
       "\n",
       "    .dataframe thead th {\n",
       "        text-align: right;\n",
       "    }\n",
       "</style>\n",
       "<table border=\"1\" class=\"dataframe\">\n",
       "  <thead>\n",
       "    <tr style=\"text-align: right;\">\n",
       "      <th></th>\n",
       "      <th>userId</th>\n",
       "      <th>movieId</th>\n",
       "      <th>tag</th>\n",
       "      <th>timestamp</th>\n",
       "    </tr>\n",
       "  </thead>\n",
       "  <tbody>\n",
       "    <tr>\n",
       "      <th>0</th>\n",
       "      <td>6930</td>\n",
       "      <td>8368</td>\n",
       "      <td>fantasy world</td>\n",
       "      <td>1483481743</td>\n",
       "    </tr>\n",
       "    <tr>\n",
       "      <th>1</th>\n",
       "      <td>6930</td>\n",
       "      <td>8957</td>\n",
       "      <td>clever</td>\n",
       "      <td>1483481683</td>\n",
       "    </tr>\n",
       "    <tr>\n",
       "      <th>2</th>\n",
       "      <td>6930</td>\n",
       "      <td>8957</td>\n",
       "      <td>surprise ending</td>\n",
       "      <td>1483481680</td>\n",
       "    </tr>\n",
       "    <tr>\n",
       "      <th>3</th>\n",
       "      <td>6930</td>\n",
       "      <td>8957</td>\n",
       "      <td>twist ending</td>\n",
       "      <td>1483481672</td>\n",
       "    </tr>\n",
       "    <tr>\n",
       "      <th>4</th>\n",
       "      <td>11278</td>\n",
       "      <td>1246</td>\n",
       "      <td>bittersweet</td>\n",
       "      <td>1593016989</td>\n",
       "    </tr>\n",
       "    <tr>\n",
       "      <th>...</th>\n",
       "      <td>...</td>\n",
       "      <td>...</td>\n",
       "      <td>...</td>\n",
       "      <td>...</td>\n",
       "    </tr>\n",
       "    <tr>\n",
       "      <th>6677</th>\n",
       "      <td>326671</td>\n",
       "      <td>115210</td>\n",
       "      <td>tanks</td>\n",
       "      <td>1478719637</td>\n",
       "    </tr>\n",
       "    <tr>\n",
       "      <th>6678</th>\n",
       "      <td>326671</td>\n",
       "      <td>115210</td>\n",
       "      <td>war</td>\n",
       "      <td>1478719625</td>\n",
       "    </tr>\n",
       "    <tr>\n",
       "      <th>6679</th>\n",
       "      <td>327318</td>\n",
       "      <td>48043</td>\n",
       "      <td>love</td>\n",
       "      <td>1228679010</td>\n",
       "    </tr>\n",
       "    <tr>\n",
       "      <th>6680</th>\n",
       "      <td>327318</td>\n",
       "      <td>48043</td>\n",
       "      <td>mayan</td>\n",
       "      <td>1228679020</td>\n",
       "    </tr>\n",
       "    <tr>\n",
       "      <th>6681</th>\n",
       "      <td>327318</td>\n",
       "      <td>48043</td>\n",
       "      <td>mortality</td>\n",
       "      <td>1228678999</td>\n",
       "    </tr>\n",
       "  </tbody>\n",
       "</table>\n",
       "<p>6682 rows × 4 columns</p>\n",
       "</div>"
      ],
      "text/plain": [
       "      userId  movieId              tag   timestamp\n",
       "0       6930     8368    fantasy world  1483481743\n",
       "1       6930     8957           clever  1483481683\n",
       "2       6930     8957  surprise ending  1483481680\n",
       "3       6930     8957     twist ending  1483481672\n",
       "4      11278     1246      bittersweet  1593016989\n",
       "...      ...      ...              ...         ...\n",
       "6677  326671   115210            tanks  1478719637\n",
       "6678  326671   115210              war  1478719625\n",
       "6679  327318    48043             love  1228679010\n",
       "6680  327318    48043            mayan  1228679020\n",
       "6681  327318    48043        mortality  1228678999\n",
       "\n",
       "[6682 rows x 4 columns]"
      ]
     },
     "execution_count": 33,
     "metadata": {},
     "output_type": "execute_result"
    }
   ],
   "source": [
    "tags_teste"
   ]
  },
  {
   "cell_type": "code",
   "execution_count": 34,
   "metadata": {},
   "outputs": [],
   "source": [
    "# Salvar tabela \"tags_treino\"\n",
    "tags_treino.to_pickle(\"C:/0.Projetos/5.Sistema_de_Recomendação_MovieLens_2/Datasets/2.Datasets_Limpeza/tags_treino.pickle\", compression=\"gzip\")"
   ]
  },
  {
   "cell_type": "code",
   "execution_count": 35,
   "metadata": {},
   "outputs": [],
   "source": [
    "# Salvar tabela \"tags_teste\"\n",
    "tags_teste.to_pickle(\"C:/0.Projetos/5.Sistema_de_Recomendação_MovieLens_2/Datasets/2.Datasets_Limpeza/tags_teste.pickle\", compression=\"gzip\")"
   ]
  },
  {
   "cell_type": "markdown",
   "metadata": {},
   "source": [
    "## Split na tabela Genome-Tags"
   ]
  },
  {
   "cell_type": "code",
   "execution_count": 74,
   "metadata": {},
   "outputs": [],
   "source": [
    "# Inicializar classe para fará amostragem da tabela Genome-Tgas\n",
    "split_genome_tags = AmostragemGenome(df_genome= genome_tags_amostragem, \n",
    "                                         df_tag_teste= tags_teste , \n",
    "                                         df_tag_treino=tags_treino , \n",
    "                                         col_tag=\"tag\" )"
   ]
  },
  {
   "cell_type": "code",
   "execution_count": 75,
   "metadata": {},
   "outputs": [],
   "source": [
    "# Criar tabela com dados de treino\n",
    "genome_tags_treino = split_genome_tags.df_treino()"
   ]
  },
  {
   "cell_type": "code",
   "execution_count": 76,
   "metadata": {},
   "outputs": [
    {
     "data": {
      "text/html": [
       "<div>\n",
       "<style scoped>\n",
       "    .dataframe tbody tr th:only-of-type {\n",
       "        vertical-align: middle;\n",
       "    }\n",
       "\n",
       "    .dataframe tbody tr th {\n",
       "        vertical-align: top;\n",
       "    }\n",
       "\n",
       "    .dataframe thead th {\n",
       "        text-align: right;\n",
       "    }\n",
       "</style>\n",
       "<table border=\"1\" class=\"dataframe\">\n",
       "  <thead>\n",
       "    <tr style=\"text-align: right;\">\n",
       "      <th></th>\n",
       "      <th>tagId</th>\n",
       "      <th>tag</th>\n",
       "    </tr>\n",
       "  </thead>\n",
       "  <tbody>\n",
       "    <tr>\n",
       "      <th>0</th>\n",
       "      <td>1</td>\n",
       "      <td>007</td>\n",
       "    </tr>\n",
       "    <tr>\n",
       "      <th>1</th>\n",
       "      <td>2</td>\n",
       "      <td>007 (series)</td>\n",
       "    </tr>\n",
       "    <tr>\n",
       "      <th>2</th>\n",
       "      <td>3</td>\n",
       "      <td>18th century</td>\n",
       "    </tr>\n",
       "    <tr>\n",
       "      <th>3</th>\n",
       "      <td>4</td>\n",
       "      <td>1920s</td>\n",
       "    </tr>\n",
       "    <tr>\n",
       "      <th>4</th>\n",
       "      <td>5</td>\n",
       "      <td>1930s</td>\n",
       "    </tr>\n",
       "    <tr>\n",
       "      <th>...</th>\n",
       "      <td>...</td>\n",
       "      <td>...</td>\n",
       "    </tr>\n",
       "    <tr>\n",
       "      <th>1123</th>\n",
       "      <td>1124</td>\n",
       "      <td>writing</td>\n",
       "    </tr>\n",
       "    <tr>\n",
       "      <th>1124</th>\n",
       "      <td>1125</td>\n",
       "      <td>wuxia</td>\n",
       "    </tr>\n",
       "    <tr>\n",
       "      <th>1125</th>\n",
       "      <td>1126</td>\n",
       "      <td>wwii</td>\n",
       "    </tr>\n",
       "    <tr>\n",
       "      <th>1126</th>\n",
       "      <td>1127</td>\n",
       "      <td>zombie</td>\n",
       "    </tr>\n",
       "    <tr>\n",
       "      <th>1127</th>\n",
       "      <td>1128</td>\n",
       "      <td>zombies</td>\n",
       "    </tr>\n",
       "  </tbody>\n",
       "</table>\n",
       "<p>961 rows × 2 columns</p>\n",
       "</div>"
      ],
      "text/plain": [
       "      tagId           tag\n",
       "0         1           007\n",
       "1         2  007 (series)\n",
       "2         3  18th century\n",
       "3         4         1920s\n",
       "4         5         1930s\n",
       "...     ...           ...\n",
       "1123   1124       writing\n",
       "1124   1125         wuxia\n",
       "1125   1126          wwii\n",
       "1126   1127        zombie\n",
       "1127   1128       zombies\n",
       "\n",
       "[961 rows x 2 columns]"
      ]
     },
     "execution_count": 76,
     "metadata": {},
     "output_type": "execute_result"
    }
   ],
   "source": [
    "genome_tags_treino"
   ]
  },
  {
   "cell_type": "code",
   "execution_count": 78,
   "metadata": {},
   "outputs": [],
   "source": [
    "# Criar tabela com os dados de teste\n",
    "genome_tags_teste = split_genome_tags.df_teste()"
   ]
  },
  {
   "cell_type": "code",
   "execution_count": 56,
   "metadata": {},
   "outputs": [
    {
     "data": {
      "text/html": [
       "<div>\n",
       "<style scoped>\n",
       "    .dataframe tbody tr th:only-of-type {\n",
       "        vertical-align: middle;\n",
       "    }\n",
       "\n",
       "    .dataframe tbody tr th {\n",
       "        vertical-align: top;\n",
       "    }\n",
       "\n",
       "    .dataframe thead th {\n",
       "        text-align: right;\n",
       "    }\n",
       "</style>\n",
       "<table border=\"1\" class=\"dataframe\">\n",
       "  <thead>\n",
       "    <tr style=\"text-align: right;\">\n",
       "      <th></th>\n",
       "      <th>tagId</th>\n",
       "      <th>tag</th>\n",
       "    </tr>\n",
       "  </thead>\n",
       "  <tbody>\n",
       "    <tr>\n",
       "      <th>0</th>\n",
       "      <td>1</td>\n",
       "      <td>007</td>\n",
       "    </tr>\n",
       "    <tr>\n",
       "      <th>5</th>\n",
       "      <td>6</td>\n",
       "      <td>1950s</td>\n",
       "    </tr>\n",
       "    <tr>\n",
       "      <th>6</th>\n",
       "      <td>7</td>\n",
       "      <td>1960s</td>\n",
       "    </tr>\n",
       "    <tr>\n",
       "      <th>7</th>\n",
       "      <td>8</td>\n",
       "      <td>1970s</td>\n",
       "    </tr>\n",
       "    <tr>\n",
       "      <th>8</th>\n",
       "      <td>9</td>\n",
       "      <td>1980s</td>\n",
       "    </tr>\n",
       "    <tr>\n",
       "      <th>...</th>\n",
       "      <td>...</td>\n",
       "      <td>...</td>\n",
       "    </tr>\n",
       "    <tr>\n",
       "      <th>1115</th>\n",
       "      <td>1116</td>\n",
       "      <td>women</td>\n",
       "    </tr>\n",
       "    <tr>\n",
       "      <th>1116</th>\n",
       "      <td>1117</td>\n",
       "      <td>working class</td>\n",
       "    </tr>\n",
       "    <tr>\n",
       "      <th>1117</th>\n",
       "      <td>1118</td>\n",
       "      <td>workplace</td>\n",
       "    </tr>\n",
       "    <tr>\n",
       "      <th>1118</th>\n",
       "      <td>1119</td>\n",
       "      <td>world politics</td>\n",
       "    </tr>\n",
       "    <tr>\n",
       "      <th>1127</th>\n",
       "      <td>1128</td>\n",
       "      <td>zombies</td>\n",
       "    </tr>\n",
       "  </tbody>\n",
       "</table>\n",
       "<p>662 rows × 2 columns</p>\n",
       "</div>"
      ],
      "text/plain": [
       "      tagId             tag\n",
       "0         1             007\n",
       "5         6           1950s\n",
       "6         7           1960s\n",
       "7         8           1970s\n",
       "8         9           1980s\n",
       "...     ...             ...\n",
       "1115   1116           women\n",
       "1116   1117   working class\n",
       "1117   1118       workplace\n",
       "1118   1119  world politics\n",
       "1127   1128         zombies\n",
       "\n",
       "[662 rows x 2 columns]"
      ]
     },
     "execution_count": 56,
     "metadata": {},
     "output_type": "execute_result"
    }
   ],
   "source": [
    "genome_tags_teste"
   ]
  },
  {
   "cell_type": "code",
   "execution_count": 79,
   "metadata": {},
   "outputs": [],
   "source": [
    "# Salvar tabela \"genome_tags_treino\"\n",
    "genome_tags_treino.to_pickle(\"C:/0.Projetos/5.Sistema_de_Recomendação_MovieLens_2/Datasets/2.Datasets_Limpeza/genome_tags_treino.pickle\", compression=\"gzip\")"
   ]
  },
  {
   "cell_type": "code",
   "execution_count": 80,
   "metadata": {},
   "outputs": [],
   "source": [
    "# Salvar tabela \"genome_tags_teste\"\n",
    "genome_tags_teste.to_pickle(\"C:/0.Projetos/5.Sistema_de_Recomendação_MovieLens_2/Datasets/2.Datasets_Limpeza/genome_tags_teste.pickle\", compression=\"gzip\")"
   ]
  },
  {
   "cell_type": "markdown",
   "metadata": {},
   "source": [
    "## Split na tabela Genome-Scores"
   ]
  },
  {
   "cell_type": "code",
   "execution_count": 67,
   "metadata": {},
   "outputs": [],
   "source": [
    "# Inicializar classe para fará amostragem da tabela Genome-Scores\n",
    "split_genome_scores = AmostragemGenome(df_genome= genome_scores_amostragem, \n",
    "                                         df_tag_teste= genome_tags_teste , \n",
    "                                         df_tag_treino=genome_tags_treino , \n",
    "                                         col_tag=\"tagId\" )"
   ]
  },
  {
   "cell_type": "code",
   "execution_count": 68,
   "metadata": {},
   "outputs": [],
   "source": [
    "# Criar tabela com dados de treino\n",
    "genome_scores_treino = split_genome_scores.df_treino()"
   ]
  },
  {
   "cell_type": "code",
   "execution_count": 69,
   "metadata": {},
   "outputs": [
    {
     "data": {
      "text/html": [
       "<div>\n",
       "<style scoped>\n",
       "    .dataframe tbody tr th:only-of-type {\n",
       "        vertical-align: middle;\n",
       "    }\n",
       "\n",
       "    .dataframe tbody tr th {\n",
       "        vertical-align: top;\n",
       "    }\n",
       "\n",
       "    .dataframe thead th {\n",
       "        text-align: right;\n",
       "    }\n",
       "</style>\n",
       "<table border=\"1\" class=\"dataframe\">\n",
       "  <thead>\n",
       "    <tr style=\"text-align: right;\">\n",
       "      <th></th>\n",
       "      <th>movieId</th>\n",
       "      <th>tagId</th>\n",
       "      <th>relevance</th>\n",
       "    </tr>\n",
       "  </thead>\n",
       "  <tbody>\n",
       "    <tr>\n",
       "      <th>0</th>\n",
       "      <td>1</td>\n",
       "      <td>1</td>\n",
       "      <td>0.03200</td>\n",
       "    </tr>\n",
       "    <tr>\n",
       "      <th>1</th>\n",
       "      <td>1</td>\n",
       "      <td>2</td>\n",
       "      <td>0.02225</td>\n",
       "    </tr>\n",
       "    <tr>\n",
       "      <th>2</th>\n",
       "      <td>1</td>\n",
       "      <td>3</td>\n",
       "      <td>0.07000</td>\n",
       "    </tr>\n",
       "    <tr>\n",
       "      <th>3</th>\n",
       "      <td>1</td>\n",
       "      <td>4</td>\n",
       "      <td>0.05900</td>\n",
       "    </tr>\n",
       "    <tr>\n",
       "      <th>4</th>\n",
       "      <td>1</td>\n",
       "      <td>5</td>\n",
       "      <td>0.12300</td>\n",
       "    </tr>\n",
       "    <tr>\n",
       "      <th>...</th>\n",
       "      <td>...</td>\n",
       "      <td>...</td>\n",
       "      <td>...</td>\n",
       "    </tr>\n",
       "    <tr>\n",
       "      <th>18472123</th>\n",
       "      <td>288167</td>\n",
       "      <td>1124</td>\n",
       "      <td>0.09875</td>\n",
       "    </tr>\n",
       "    <tr>\n",
       "      <th>18472124</th>\n",
       "      <td>288167</td>\n",
       "      <td>1125</td>\n",
       "      <td>0.02950</td>\n",
       "    </tr>\n",
       "    <tr>\n",
       "      <th>18472125</th>\n",
       "      <td>288167</td>\n",
       "      <td>1126</td>\n",
       "      <td>0.02275</td>\n",
       "    </tr>\n",
       "    <tr>\n",
       "      <th>18472126</th>\n",
       "      <td>288167</td>\n",
       "      <td>1127</td>\n",
       "      <td>0.11225</td>\n",
       "    </tr>\n",
       "    <tr>\n",
       "      <th>18472127</th>\n",
       "      <td>288167</td>\n",
       "      <td>1128</td>\n",
       "      <td>0.03025</td>\n",
       "    </tr>\n",
       "  </tbody>\n",
       "</table>\n",
       "<p>15737336 rows × 3 columns</p>\n",
       "</div>"
      ],
      "text/plain": [
       "          movieId  tagId  relevance\n",
       "0               1      1    0.03200\n",
       "1               1      2    0.02225\n",
       "2               1      3    0.07000\n",
       "3               1      4    0.05900\n",
       "4               1      5    0.12300\n",
       "...           ...    ...        ...\n",
       "18472123   288167   1124    0.09875\n",
       "18472124   288167   1125    0.02950\n",
       "18472125   288167   1126    0.02275\n",
       "18472126   288167   1127    0.11225\n",
       "18472127   288167   1128    0.03025\n",
       "\n",
       "[15737336 rows x 3 columns]"
      ]
     },
     "execution_count": 69,
     "metadata": {},
     "output_type": "execute_result"
    }
   ],
   "source": [
    "genome_scores_treino"
   ]
  },
  {
   "cell_type": "code",
   "execution_count": 70,
   "metadata": {},
   "outputs": [],
   "source": [
    "# Criar tabela com dados de teste\n",
    "genome_scores_teste = split_genome_scores.df_teste()"
   ]
  },
  {
   "cell_type": "code",
   "execution_count": 71,
   "metadata": {},
   "outputs": [
    {
     "data": {
      "text/html": [
       "<div>\n",
       "<style scoped>\n",
       "    .dataframe tbody tr th:only-of-type {\n",
       "        vertical-align: middle;\n",
       "    }\n",
       "\n",
       "    .dataframe tbody tr th {\n",
       "        vertical-align: top;\n",
       "    }\n",
       "\n",
       "    .dataframe thead th {\n",
       "        text-align: right;\n",
       "    }\n",
       "</style>\n",
       "<table border=\"1\" class=\"dataframe\">\n",
       "  <thead>\n",
       "    <tr style=\"text-align: right;\">\n",
       "      <th></th>\n",
       "      <th>movieId</th>\n",
       "      <th>tagId</th>\n",
       "      <th>relevance</th>\n",
       "    </tr>\n",
       "  </thead>\n",
       "  <tbody>\n",
       "    <tr>\n",
       "      <th>0</th>\n",
       "      <td>1</td>\n",
       "      <td>1</td>\n",
       "      <td>0.03200</td>\n",
       "    </tr>\n",
       "    <tr>\n",
       "      <th>5</th>\n",
       "      <td>1</td>\n",
       "      <td>6</td>\n",
       "      <td>0.13100</td>\n",
       "    </tr>\n",
       "    <tr>\n",
       "      <th>6</th>\n",
       "      <td>1</td>\n",
       "      <td>7</td>\n",
       "      <td>0.06175</td>\n",
       "    </tr>\n",
       "    <tr>\n",
       "      <th>7</th>\n",
       "      <td>1</td>\n",
       "      <td>8</td>\n",
       "      <td>0.19550</td>\n",
       "    </tr>\n",
       "    <tr>\n",
       "      <th>8</th>\n",
       "      <td>1</td>\n",
       "      <td>9</td>\n",
       "      <td>0.26625</td>\n",
       "    </tr>\n",
       "    <tr>\n",
       "      <th>...</th>\n",
       "      <td>...</td>\n",
       "      <td>...</td>\n",
       "      <td>...</td>\n",
       "    </tr>\n",
       "    <tr>\n",
       "      <th>18472115</th>\n",
       "      <td>288167</td>\n",
       "      <td>1116</td>\n",
       "      <td>0.37600</td>\n",
       "    </tr>\n",
       "    <tr>\n",
       "      <th>18472116</th>\n",
       "      <td>288167</td>\n",
       "      <td>1117</td>\n",
       "      <td>0.01825</td>\n",
       "    </tr>\n",
       "    <tr>\n",
       "      <th>18472117</th>\n",
       "      <td>288167</td>\n",
       "      <td>1118</td>\n",
       "      <td>0.08100</td>\n",
       "    </tr>\n",
       "    <tr>\n",
       "      <th>18472118</th>\n",
       "      <td>288167</td>\n",
       "      <td>1119</td>\n",
       "      <td>0.08075</td>\n",
       "    </tr>\n",
       "    <tr>\n",
       "      <th>18472127</th>\n",
       "      <td>288167</td>\n",
       "      <td>1128</td>\n",
       "      <td>0.03025</td>\n",
       "    </tr>\n",
       "  </tbody>\n",
       "</table>\n",
       "<p>10840912 rows × 3 columns</p>\n",
       "</div>"
      ],
      "text/plain": [
       "          movieId  tagId  relevance\n",
       "0               1      1    0.03200\n",
       "5               1      6    0.13100\n",
       "6               1      7    0.06175\n",
       "7               1      8    0.19550\n",
       "8               1      9    0.26625\n",
       "...           ...    ...        ...\n",
       "18472115   288167   1116    0.37600\n",
       "18472116   288167   1117    0.01825\n",
       "18472117   288167   1118    0.08100\n",
       "18472118   288167   1119    0.08075\n",
       "18472127   288167   1128    0.03025\n",
       "\n",
       "[10840912 rows x 3 columns]"
      ]
     },
     "execution_count": 71,
     "metadata": {},
     "output_type": "execute_result"
    }
   ],
   "source": [
    "genome_scores_teste"
   ]
  },
  {
   "cell_type": "code",
   "execution_count": 81,
   "metadata": {},
   "outputs": [],
   "source": [
    "# Salvar tabela \"genome_tags_treino\"\n",
    "genome_scores_treino.to_pickle(\"C:/0.Projetos/5.Sistema_de_Recomendação_MovieLens_2/Datasets/2.Datasets_Limpeza/genome_scores_treino.pickle\", compression=\"gzip\")"
   ]
  },
  {
   "cell_type": "code",
   "execution_count": 82,
   "metadata": {},
   "outputs": [],
   "source": [
    "# Salvar tabela \"genome_tags_teste\"\n",
    "genome_scores_teste.to_pickle(\"C:/0.Projetos/5.Sistema_de_Recomendação_MovieLens_2/Datasets/2.Datasets_Limpeza/genome_scores_teste.pickle\", compression=\"gzip\")"
   ]
  },
  {
   "cell_type": "code",
   "execution_count": 4,
   "metadata": {},
   "outputs": [],
   "source": [
    "ratings_treino = pd.read_pickle(\"C:/0.Projetos/5.Sistema_de_Recomendação_MovieLens_2/Datasets/2.Datasets_Limpeza/ratings_treino.pickle\", compression=\"gzip\") "
   ]
  },
  {
   "cell_type": "code",
   "execution_count": 5,
   "metadata": {},
   "outputs": [
    {
     "data": {
      "text/plain": [
       "userId         7943\n",
       "movieId       24345\n",
       "rating           10\n",
       "timestamp    686965\n",
       "dtype: int64"
      ]
     },
     "execution_count": 5,
     "metadata": {},
     "output_type": "execute_result"
    }
   ],
   "source": [
    "ratings_treino.nunique()"
   ]
  },
  {
   "cell_type": "code",
   "execution_count": 6,
   "metadata": {},
   "outputs": [],
   "source": [
    "ratings_teste = pd.read_pickle(\"C:/0.Projetos/5.Sistema_de_Recomendação_MovieLens_2/Datasets/2.Datasets_Limpeza/ratings_teste.pickle\", compression=\"gzip\") "
   ]
  },
  {
   "cell_type": "code",
   "execution_count": 7,
   "metadata": {},
   "outputs": [
    {
     "data": {
      "text/plain": [
       "userId         1986\n",
       "movieId       15507\n",
       "rating           10\n",
       "timestamp    172762\n",
       "dtype: int64"
      ]
     },
     "execution_count": 7,
     "metadata": {},
     "output_type": "execute_result"
    }
   ],
   "source": [
    "ratings_teste.nunique()"
   ]
  },
  {
   "cell_type": "markdown",
   "metadata": {},
   "source": [
    "# **⚠ No próximo Notebook será utilizado os arquivos:**\n",
    ">  - ratings_treino\n",
    ">  - ratings_teste\n",
    ">  - movies_treino\n",
    ">  - movies_teste\n",
    ">  - tags_treino\n",
    ">  - tags_teste\n",
    ">  - genome_tags_treino\n",
    ">  - genome_tags_teste\n",
    ">  - genome_scores_treino\n",
    ">  - genome_scores_teste\n"
   ]
  }
 ],
 "metadata": {
  "kernelspec": {
   "display_name": "Python 3",
   "language": "python",
   "name": "python3"
  },
  "language_info": {
   "codemirror_mode": {
    "name": "ipython",
    "version": 3
   },
   "file_extension": ".py",
   "mimetype": "text/x-python",
   "name": "python",
   "nbconvert_exporter": "python",
   "pygments_lexer": "ipython3",
   "version": "3.11.0"
  }
 },
 "nbformat": 4,
 "nbformat_minor": 2
}
